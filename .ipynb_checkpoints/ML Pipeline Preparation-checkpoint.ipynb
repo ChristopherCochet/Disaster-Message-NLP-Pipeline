{
 "cells": [
  {
   "cell_type": "markdown",
   "metadata": {},
   "source": [
    "# ML Pipeline Preparation\n",
    "Follow the instructions below to help you create your ML pipeline.\n",
    "### 1. Import libraries and load data from database.\n",
    "- Import Python libraries\n",
    "- Load dataset from database with [`read_sql_table`](https://pandas.pydata.org/pandas-docs/stable/generated/pandas.read_sql_table.html)\n",
    "- Define feature and target variables X and Y"
   ]
  },
  {
   "cell_type": "code",
   "execution_count": 1,
   "metadata": {},
   "outputs": [
    {
     "name": "stderr",
     "output_type": "stream",
     "text": [
      "[nltk_data] Downloading package punkt to C:\\Users\\Chris\n",
      "[nltk_data]     Cochet\\AppData\\Roaming\\nltk_data...\n",
      "[nltk_data]   Package punkt is already up-to-date!\n",
      "[nltk_data] Downloading package wordnet to C:\\Users\\Chris\n",
      "[nltk_data]     Cochet\\AppData\\Roaming\\nltk_data...\n",
      "[nltk_data]   Package wordnet is already up-to-date!\n",
      "[nltk_data] Downloading package averaged_perceptron_tagger to\n",
      "[nltk_data]     C:\\Users\\Chris Cochet\\AppData\\Roaming\\nltk_data...\n",
      "[nltk_data]   Package averaged_perceptron_tagger is already up-to-\n",
      "[nltk_data]       date!\n"
     ]
    }
   ],
   "source": [
    "# import libraries\n",
    "import pandas as pd\n",
    "import numpy as np\n",
    "import re\n",
    "import nltk\n",
    "\n",
    "from sqlalchemy import create_engine\n",
    "nltk.download(['punkt', 'wordnet', 'averaged_perceptron_tagger'])\n",
    "from nltk.tokenize import word_tokenize\n",
    "from nltk.stem import WordNetLemmatizer\n",
    "from sklearn.pipeline import Pipeline\n",
    "from sklearn.multioutput import MultiOutputClassifier\n",
    "from sklearn.feature_extraction.text import CountVectorizer, TfidfTransformer\n",
    "from sklearn.ensemble import RandomForestClassifier, GradientBoostingClassifier\n",
    "from sklearn.neighbors import KNeighborsClassifier\n",
    "from sklearn.model_selection import train_test_split\n",
    "from sklearn.metrics import confusion_matrix, f1_score, make_scorer"
   ]
  },
  {
   "cell_type": "code",
   "execution_count": 2,
   "metadata": {},
   "outputs": [],
   "source": [
    "# load data from database\n",
    "engine = create_engine('sqlite:///data/disaster-message.db')\n",
    "\n",
    "df = pd.read_sql_query(\"SELECT * FROM messages\", con = engine)\n",
    "df = df.set_index('id')\n",
    "X = df.drop('genre', axis = 1)\n",
    "Y = df.iloc[:,2]"
   ]
  },
  {
   "cell_type": "code",
   "execution_count": 3,
   "metadata": {},
   "outputs": [
    {
     "data": {
      "text/html": [
       "<div>\n",
       "<style scoped>\n",
       "    .dataframe tbody tr th:only-of-type {\n",
       "        vertical-align: middle;\n",
       "    }\n",
       "\n",
       "    .dataframe tbody tr th {\n",
       "        vertical-align: top;\n",
       "    }\n",
       "\n",
       "    .dataframe thead th {\n",
       "        text-align: right;\n",
       "    }\n",
       "</style>\n",
       "<table border=\"1\" class=\"dataframe\">\n",
       "  <thead>\n",
       "    <tr style=\"text-align: right;\">\n",
       "      <th></th>\n",
       "      <th>message</th>\n",
       "      <th>original</th>\n",
       "      <th>genre</th>\n",
       "      <th>related</th>\n",
       "      <th>request</th>\n",
       "      <th>offer</th>\n",
       "      <th>aid_related</th>\n",
       "      <th>medical_help</th>\n",
       "      <th>medical_products</th>\n",
       "      <th>search_and_rescue</th>\n",
       "      <th>...</th>\n",
       "      <th>aid_centers</th>\n",
       "      <th>other_infrastructure</th>\n",
       "      <th>weather_related</th>\n",
       "      <th>floods</th>\n",
       "      <th>storm</th>\n",
       "      <th>fire</th>\n",
       "      <th>earthquake</th>\n",
       "      <th>cold</th>\n",
       "      <th>other_weather</th>\n",
       "      <th>direct_report</th>\n",
       "    </tr>\n",
       "    <tr>\n",
       "      <th>id</th>\n",
       "      <th></th>\n",
       "      <th></th>\n",
       "      <th></th>\n",
       "      <th></th>\n",
       "      <th></th>\n",
       "      <th></th>\n",
       "      <th></th>\n",
       "      <th></th>\n",
       "      <th></th>\n",
       "      <th></th>\n",
       "      <th></th>\n",
       "      <th></th>\n",
       "      <th></th>\n",
       "      <th></th>\n",
       "      <th></th>\n",
       "      <th></th>\n",
       "      <th></th>\n",
       "      <th></th>\n",
       "      <th></th>\n",
       "      <th></th>\n",
       "      <th></th>\n",
       "    </tr>\n",
       "  </thead>\n",
       "  <tbody>\n",
       "    <tr>\n",
       "      <th>2</th>\n",
       "      <td>Weather update - a cold front from Cuba that c...</td>\n",
       "      <td>Un front froid se retrouve sur Cuba ce matin. ...</td>\n",
       "      <td>direct</td>\n",
       "      <td>1</td>\n",
       "      <td>0</td>\n",
       "      <td>0</td>\n",
       "      <td>0</td>\n",
       "      <td>0</td>\n",
       "      <td>0</td>\n",
       "      <td>0</td>\n",
       "      <td>...</td>\n",
       "      <td>0</td>\n",
       "      <td>0</td>\n",
       "      <td>0</td>\n",
       "      <td>0</td>\n",
       "      <td>0</td>\n",
       "      <td>0</td>\n",
       "      <td>0</td>\n",
       "      <td>0</td>\n",
       "      <td>0</td>\n",
       "      <td>0</td>\n",
       "    </tr>\n",
       "    <tr>\n",
       "      <th>7</th>\n",
       "      <td>Is the Hurricane over or is it not over</td>\n",
       "      <td>Cyclone nan fini osinon li pa fini</td>\n",
       "      <td>direct</td>\n",
       "      <td>1</td>\n",
       "      <td>0</td>\n",
       "      <td>0</td>\n",
       "      <td>1</td>\n",
       "      <td>0</td>\n",
       "      <td>0</td>\n",
       "      <td>0</td>\n",
       "      <td>...</td>\n",
       "      <td>0</td>\n",
       "      <td>0</td>\n",
       "      <td>1</td>\n",
       "      <td>0</td>\n",
       "      <td>1</td>\n",
       "      <td>0</td>\n",
       "      <td>0</td>\n",
       "      <td>0</td>\n",
       "      <td>0</td>\n",
       "      <td>0</td>\n",
       "    </tr>\n",
       "  </tbody>\n",
       "</table>\n",
       "<p>2 rows × 39 columns</p>\n",
       "</div>"
      ],
      "text/plain": [
       "                                              message  \\\n",
       "id                                                      \n",
       "2   Weather update - a cold front from Cuba that c...   \n",
       "7             Is the Hurricane over or is it not over   \n",
       "\n",
       "                                             original   genre  related  \\\n",
       "id                                                                       \n",
       "2   Un front froid se retrouve sur Cuba ce matin. ...  direct        1   \n",
       "7                  Cyclone nan fini osinon li pa fini  direct        1   \n",
       "\n",
       "    request  offer  aid_related  medical_help  medical_products  \\\n",
       "id                                                                \n",
       "2         0      0            0             0                 0   \n",
       "7         0      0            1             0                 0   \n",
       "\n",
       "    search_and_rescue  ...  aid_centers  other_infrastructure  \\\n",
       "id                     ...                                      \n",
       "2                   0  ...            0                     0   \n",
       "7                   0  ...            0                     0   \n",
       "\n",
       "    weather_related  floods  storm  fire  earthquake  cold  other_weather  \\\n",
       "id                                                                          \n",
       "2                 0       0      0     0           0     0              0   \n",
       "7                 1       0      1     0           0     0              0   \n",
       "\n",
       "    direct_report  \n",
       "id                 \n",
       "2               0  \n",
       "7               0  \n",
       "\n",
       "[2 rows x 39 columns]"
      ]
     },
     "metadata": {},
     "output_type": "display_data"
    },
    {
     "data": {
      "text/html": [
       "<div>\n",
       "<style scoped>\n",
       "    .dataframe tbody tr th:only-of-type {\n",
       "        vertical-align: middle;\n",
       "    }\n",
       "\n",
       "    .dataframe tbody tr th {\n",
       "        vertical-align: top;\n",
       "    }\n",
       "\n",
       "    .dataframe thead th {\n",
       "        text-align: right;\n",
       "    }\n",
       "</style>\n",
       "<table border=\"1\" class=\"dataframe\">\n",
       "  <thead>\n",
       "    <tr style=\"text-align: right;\">\n",
       "      <th></th>\n",
       "      <th>message</th>\n",
       "      <th>original</th>\n",
       "      <th>related</th>\n",
       "      <th>request</th>\n",
       "      <th>offer</th>\n",
       "      <th>aid_related</th>\n",
       "      <th>medical_help</th>\n",
       "      <th>medical_products</th>\n",
       "      <th>search_and_rescue</th>\n",
       "      <th>security</th>\n",
       "      <th>...</th>\n",
       "      <th>aid_centers</th>\n",
       "      <th>other_infrastructure</th>\n",
       "      <th>weather_related</th>\n",
       "      <th>floods</th>\n",
       "      <th>storm</th>\n",
       "      <th>fire</th>\n",
       "      <th>earthquake</th>\n",
       "      <th>cold</th>\n",
       "      <th>other_weather</th>\n",
       "      <th>direct_report</th>\n",
       "    </tr>\n",
       "    <tr>\n",
       "      <th>id</th>\n",
       "      <th></th>\n",
       "      <th></th>\n",
       "      <th></th>\n",
       "      <th></th>\n",
       "      <th></th>\n",
       "      <th></th>\n",
       "      <th></th>\n",
       "      <th></th>\n",
       "      <th></th>\n",
       "      <th></th>\n",
       "      <th></th>\n",
       "      <th></th>\n",
       "      <th></th>\n",
       "      <th></th>\n",
       "      <th></th>\n",
       "      <th></th>\n",
       "      <th></th>\n",
       "      <th></th>\n",
       "      <th></th>\n",
       "      <th></th>\n",
       "      <th></th>\n",
       "    </tr>\n",
       "  </thead>\n",
       "  <tbody>\n",
       "    <tr>\n",
       "      <th>2</th>\n",
       "      <td>Weather update - a cold front from Cuba that c...</td>\n",
       "      <td>Un front froid se retrouve sur Cuba ce matin. ...</td>\n",
       "      <td>1</td>\n",
       "      <td>0</td>\n",
       "      <td>0</td>\n",
       "      <td>0</td>\n",
       "      <td>0</td>\n",
       "      <td>0</td>\n",
       "      <td>0</td>\n",
       "      <td>0</td>\n",
       "      <td>...</td>\n",
       "      <td>0</td>\n",
       "      <td>0</td>\n",
       "      <td>0</td>\n",
       "      <td>0</td>\n",
       "      <td>0</td>\n",
       "      <td>0</td>\n",
       "      <td>0</td>\n",
       "      <td>0</td>\n",
       "      <td>0</td>\n",
       "      <td>0</td>\n",
       "    </tr>\n",
       "    <tr>\n",
       "      <th>7</th>\n",
       "      <td>Is the Hurricane over or is it not over</td>\n",
       "      <td>Cyclone nan fini osinon li pa fini</td>\n",
       "      <td>1</td>\n",
       "      <td>0</td>\n",
       "      <td>0</td>\n",
       "      <td>1</td>\n",
       "      <td>0</td>\n",
       "      <td>0</td>\n",
       "      <td>0</td>\n",
       "      <td>0</td>\n",
       "      <td>...</td>\n",
       "      <td>0</td>\n",
       "      <td>0</td>\n",
       "      <td>1</td>\n",
       "      <td>0</td>\n",
       "      <td>1</td>\n",
       "      <td>0</td>\n",
       "      <td>0</td>\n",
       "      <td>0</td>\n",
       "      <td>0</td>\n",
       "      <td>0</td>\n",
       "    </tr>\n",
       "  </tbody>\n",
       "</table>\n",
       "<p>2 rows × 38 columns</p>\n",
       "</div>"
      ],
      "text/plain": [
       "                                              message  \\\n",
       "id                                                      \n",
       "2   Weather update - a cold front from Cuba that c...   \n",
       "7             Is the Hurricane over or is it not over   \n",
       "\n",
       "                                             original  related  request  \\\n",
       "id                                                                        \n",
       "2   Un front froid se retrouve sur Cuba ce matin. ...        1        0   \n",
       "7                  Cyclone nan fini osinon li pa fini        1        0   \n",
       "\n",
       "    offer  aid_related  medical_help  medical_products  search_and_rescue  \\\n",
       "id                                                                          \n",
       "2       0            0             0                 0                  0   \n",
       "7       0            1             0                 0                  0   \n",
       "\n",
       "    security  ...  aid_centers  other_infrastructure  weather_related  floods  \\\n",
       "id            ...                                                               \n",
       "2          0  ...            0                     0                0       0   \n",
       "7          0  ...            0                     0                1       0   \n",
       "\n",
       "    storm  fire  earthquake  cold  other_weather  direct_report  \n",
       "id                                                               \n",
       "2       0     0           0     0              0              0  \n",
       "7       1     0           0     0              0              0  \n",
       "\n",
       "[2 rows x 38 columns]"
      ]
     },
     "metadata": {},
     "output_type": "display_data"
    },
    {
     "data": {
      "text/plain": [
       "id\n",
       "2    direct\n",
       "7    direct\n",
       "Name: genre, dtype: object"
      ]
     },
     "metadata": {},
     "output_type": "display_data"
    }
   ],
   "source": [
    "display(df.head(2), X.head(2), Y.head(2))"
   ]
  },
  {
   "cell_type": "markdown",
   "metadata": {},
   "source": [
    "### 2. Write a tokenization function to process your text data"
   ]
  },
  {
   "cell_type": "code",
   "execution_count": 4,
   "metadata": {},
   "outputs": [],
   "source": [
    "def tokenize(text):\n",
    "    tokens = word_tokenize(text)\n",
    "    lemmatizer = WordNetLemmatizer()\n",
    "\n",
    "    clean_tokens = []\n",
    "    for tok in tokens:\n",
    "        clean_tok = lemmatizer.lemmatize(tok).lower().strip()\n",
    "        clean_tokens.append(clean_tok)\n",
    "\n",
    "    return clean_tokens"
   ]
  },
  {
   "cell_type": "markdown",
   "metadata": {},
   "source": [
    "### 3. Build a machine learning pipeline\n",
    "This machine pipeline should take in the `message` column as input and output classification results on the other 36 categories in the dataset. You may find the [MultiOutputClassifier](http://scikit-learn.org/stable/modules/generated/sklearn.multioutput.MultiOutputClassifier.html) helpful for predicting multiple target variables."
   ]
  },
  {
   "cell_type": "code",
   "execution_count": 23,
   "metadata": {},
   "outputs": [],
   "source": [
    "# pipeline = Pipeline([\n",
    "#         ('features', FeatureUnion([\n",
    "\n",
    "#             ('text_pipeline', Pipeline([\n",
    "#                 ('vect', CountVectorizer(tokenizer=tokenize)),\n",
    "#                 ('tfidf', TfidfTransformer())\n",
    "#             ])),\n",
    "\n",
    "#             ('starting_verb', StartingVerbExtractor())\n",
    "#         ])),\n",
    "\n",
    "#         ('clf', RandomForestClassifier())\n",
    "#     ])\n",
    "\n",
    "nlp_pipeline_rf = Pipeline([\n",
    "                        ('vect', CountVectorizer(tokenizer=tokenize)),\n",
    "                        ('tfidf', TfidfTransformer()),\n",
    "                        ('multiclassifier',MultiOutputClassifier(RandomForestClassifier()))\n",
    "                    ])\n",
    "\n",
    "nlp_pipeline_gb = Pipeline([\n",
    "                        ('vect', CountVectorizer(tokenizer=tokenize)),\n",
    "                        ('tfidf', TfidfTransformer()),\n",
    "                        ('multiclassifier',MultiOutputClassifier(GradientBoostingClassifier()))\n",
    "                    ])\n",
    "\n",
    "nlp_pipeline_knn = Pipeline([\n",
    "                        ('vect', CountVectorizer(tokenizer=tokenize)),\n",
    "                        ('tfidf', TfidfTransformer()),\n",
    "                        ('multiclassifier',MultiOutputClassifier(KNeighborsClassifier()))\n",
    "                    ])\n",
    "\n",
    "nlp_pipeline_simple_rf = Pipeline([\n",
    "                        ('vect', CountVectorizer(tokenizer=tokenize)),\n",
    "                        ('tfidf', TfidfTransformer()),\n",
    "                        ('multiclassifier',RandomForestClassifier())\n",
    "                    ])\n",
    "\n",
    "nlp_pipeline_simple_gb = Pipeline([\n",
    "                        ('vect', CountVectorizer(tokenizer=tokenize)),\n",
    "                        ('tfidf', TfidfTransformer()),\n",
    "                        ('multiclassifier',GradientBoostingClassifier())\n",
    "                    ])"
   ]
  },
  {
   "cell_type": "markdown",
   "metadata": {},
   "source": [
    "### 4. Train pipeline\n",
    "- Split data into train and test sets\n",
    "- Train pipeline"
   ]
  },
  {
   "cell_type": "code",
   "execution_count": 8,
   "metadata": {},
   "outputs": [
    {
     "data": {
      "text/plain": [
       "Pipeline(steps=[('vect',\n",
       "                 CountVectorizer(tokenizer=<function tokenize at 0x00000292B110AF28>)),\n",
       "                ('tfidf', TfidfTransformer()),\n",
       "                ('multiclassifier',\n",
       "                 MultiOutputClassifier(estimator=RandomForestClassifier()))])"
      ]
     },
     "execution_count": 8,
     "metadata": {},
     "output_type": "execute_result"
    }
   ],
   "source": [
    "input_X = X['message']\n",
    "input_Y = pd.get_dummies(Y)\n",
    "\n",
    "X_train, X_test, y_train, y_test = train_test_split(input_X, input_Y)\n",
    "nlp_pipeline_rf.fit(X_train, y_train)"
   ]
  },
  {
   "cell_type": "code",
   "execution_count": 9,
   "metadata": {},
   "outputs": [
    {
     "data": {
      "text/plain": [
       "Pipeline(steps=[('vect',\n",
       "                 CountVectorizer(tokenizer=<function tokenize at 0x00000292B110AF28>)),\n",
       "                ('tfidf', TfidfTransformer()),\n",
       "                ('multiclassifier',\n",
       "                 MultiOutputClassifier(estimator=GradientBoostingClassifier()))])"
      ]
     },
     "execution_count": 9,
     "metadata": {},
     "output_type": "execute_result"
    }
   ],
   "source": [
    "nlp_pipeline_gb.fit(X_train, y_train)"
   ]
  },
  {
   "cell_type": "code",
   "execution_count": 139,
   "metadata": {},
   "outputs": [
    {
     "data": {
      "text/html": [
       "<style>div.sk-top-container {color: black;background-color: white;}div.sk-toggleable {background-color: white;}label.sk-toggleable__label {cursor: pointer;display: block;width: 100%;margin-bottom: 0;padding: 0.2em 0.3em;box-sizing: border-box;text-align: center;}div.sk-toggleable__content {max-height: 0;max-width: 0;overflow: hidden;text-align: left;background-color: #f0f8ff;}div.sk-toggleable__content pre {margin: 0.2em;color: black;border-radius: 0.25em;background-color: #f0f8ff;}input.sk-toggleable__control:checked~div.sk-toggleable__content {max-height: 200px;max-width: 100%;overflow: auto;}div.sk-estimator input.sk-toggleable__control:checked~label.sk-toggleable__label {background-color: #d4ebff;}div.sk-label input.sk-toggleable__control:checked~label.sk-toggleable__label {background-color: #d4ebff;}input.sk-hidden--visually {border: 0;clip: rect(1px 1px 1px 1px);clip: rect(1px, 1px, 1px, 1px);height: 1px;margin: -1px;overflow: hidden;padding: 0;position: absolute;width: 1px;}div.sk-estimator {font-family: monospace;background-color: #f0f8ff;margin: 0.25em 0.25em;border: 1px dotted black;border-radius: 0.25em;box-sizing: border-box;}div.sk-estimator:hover {background-color: #d4ebff;}div.sk-parallel-item::after {content: \"\";width: 100%;border-bottom: 1px solid gray;flex-grow: 1;}div.sk-label:hover label.sk-toggleable__label {background-color: #d4ebff;}div.sk-serial::before {content: \"\";position: absolute;border-left: 1px solid gray;box-sizing: border-box;top: 2em;bottom: 0;left: 50%;}div.sk-serial {display: flex;flex-direction: column;align-items: center;background-color: white;}div.sk-item {z-index: 1;}div.sk-parallel {display: flex;align-items: stretch;justify-content: center;background-color: white;}div.sk-parallel-item {display: flex;flex-direction: column;position: relative;background-color: white;}div.sk-parallel-item:first-child::after {align-self: flex-end;width: 50%;}div.sk-parallel-item:last-child::after {align-self: flex-start;width: 50%;}div.sk-parallel-item:only-child::after {width: 0;}div.sk-dashed-wrapped {border: 1px dashed gray;margin: 0.2em;box-sizing: border-box;padding-bottom: 0.1em;background-color: white;position: relative;}div.sk-label label {font-family: monospace;font-weight: bold;background-color: white;display: inline-block;line-height: 1.2em;}div.sk-label-container {position: relative;z-index: 2;text-align: center;}div.sk-container {display: inline-block;position: relative;}</style><div class=\"sk-top-container\"><div class=\"sk-container\"><div class=\"sk-item sk-dashed-wrapped\"><div class=\"sk-label-container\"><div class=\"sk-label sk-toggleable\"><input class=\"sk-toggleable__control sk-hidden--visually\" id=\"758feb39-bc2d-4be7-bc3d-66232dc54c5e\" type=\"checkbox\" ><label class=\"sk-toggleable__label\" for=\"758feb39-bc2d-4be7-bc3d-66232dc54c5e\">Pipeline</label><div class=\"sk-toggleable__content\"><pre>Pipeline(steps=[('vect',\n",
       "                 CountVectorizer(tokenizer=<function tokenize at 0x000002202F726C80>)),\n",
       "                ('tfidf', TfidfTransformer()),\n",
       "                ('multiclassifier',\n",
       "                 MultiOutputClassifier(estimator=KNeighborsClassifier()))])</pre></div></div></div><div class=\"sk-serial\"><div class=\"sk-item\"><div class=\"sk-estimator sk-toggleable\"><input class=\"sk-toggleable__control sk-hidden--visually\" id=\"55752b5e-38a7-470a-a909-bed3478cfac7\" type=\"checkbox\" ><label class=\"sk-toggleable__label\" for=\"55752b5e-38a7-470a-a909-bed3478cfac7\">CountVectorizer</label><div class=\"sk-toggleable__content\"><pre>CountVectorizer(tokenizer=<function tokenize at 0x000002202F726C80>)</pre></div></div></div><div class=\"sk-item\"><div class=\"sk-estimator sk-toggleable\"><input class=\"sk-toggleable__control sk-hidden--visually\" id=\"97d70044-b042-4ddd-992b-d4ac7929da9a\" type=\"checkbox\" ><label class=\"sk-toggleable__label\" for=\"97d70044-b042-4ddd-992b-d4ac7929da9a\">TfidfTransformer</label><div class=\"sk-toggleable__content\"><pre>TfidfTransformer()</pre></div></div></div><div class=\"sk-item sk-dashed-wrapped\"><div class=\"sk-label-container\"><div class=\"sk-label sk-toggleable\"><input class=\"sk-toggleable__control sk-hidden--visually\" id=\"8527697f-398a-4939-b8d9-71d133feab98\" type=\"checkbox\" ><label class=\"sk-toggleable__label\" for=\"8527697f-398a-4939-b8d9-71d133feab98\">multiclassifier: MultiOutputClassifier</label><div class=\"sk-toggleable__content\"><pre>MultiOutputClassifier(estimator=KNeighborsClassifier())</pre></div></div></div><div class=\"sk-parallel\"><div class=\"sk-parallel-item\"><div class=\"sk-item\"><div class=\"sk-serial\"><div class=\"sk-item\"><div class=\"sk-estimator sk-toggleable\"><input class=\"sk-toggleable__control sk-hidden--visually\" id=\"8f9503e5-c3ae-42f9-89f4-b37a28ed6008\" type=\"checkbox\" ><label class=\"sk-toggleable__label\" for=\"8f9503e5-c3ae-42f9-89f4-b37a28ed6008\">KNeighborsClassifier</label><div class=\"sk-toggleable__content\"><pre>KNeighborsClassifier()</pre></div></div></div></div></div></div></div></div></div></div></div></div>"
      ],
      "text/plain": [
       "Pipeline(steps=[('vect',\n",
       "                 CountVectorizer(tokenizer=<function tokenize at 0x000002202F726C80>)),\n",
       "                ('tfidf', TfidfTransformer()),\n",
       "                ('multiclassifier',\n",
       "                 MultiOutputClassifier(estimator=KNeighborsClassifier()))])"
      ]
     },
     "execution_count": 139,
     "metadata": {},
     "output_type": "execute_result"
    }
   ],
   "source": [
    "nlp_pipeline_knn.fit(X_train, y_train)"
   ]
  },
  {
   "cell_type": "code",
   "execution_count": 140,
   "metadata": {},
   "outputs": [
    {
     "data": {
      "text/html": [
       "<style>div.sk-top-container {color: black;background-color: white;}div.sk-toggleable {background-color: white;}label.sk-toggleable__label {cursor: pointer;display: block;width: 100%;margin-bottom: 0;padding: 0.2em 0.3em;box-sizing: border-box;text-align: center;}div.sk-toggleable__content {max-height: 0;max-width: 0;overflow: hidden;text-align: left;background-color: #f0f8ff;}div.sk-toggleable__content pre {margin: 0.2em;color: black;border-radius: 0.25em;background-color: #f0f8ff;}input.sk-toggleable__control:checked~div.sk-toggleable__content {max-height: 200px;max-width: 100%;overflow: auto;}div.sk-estimator input.sk-toggleable__control:checked~label.sk-toggleable__label {background-color: #d4ebff;}div.sk-label input.sk-toggleable__control:checked~label.sk-toggleable__label {background-color: #d4ebff;}input.sk-hidden--visually {border: 0;clip: rect(1px 1px 1px 1px);clip: rect(1px, 1px, 1px, 1px);height: 1px;margin: -1px;overflow: hidden;padding: 0;position: absolute;width: 1px;}div.sk-estimator {font-family: monospace;background-color: #f0f8ff;margin: 0.25em 0.25em;border: 1px dotted black;border-radius: 0.25em;box-sizing: border-box;}div.sk-estimator:hover {background-color: #d4ebff;}div.sk-parallel-item::after {content: \"\";width: 100%;border-bottom: 1px solid gray;flex-grow: 1;}div.sk-label:hover label.sk-toggleable__label {background-color: #d4ebff;}div.sk-serial::before {content: \"\";position: absolute;border-left: 1px solid gray;box-sizing: border-box;top: 2em;bottom: 0;left: 50%;}div.sk-serial {display: flex;flex-direction: column;align-items: center;background-color: white;}div.sk-item {z-index: 1;}div.sk-parallel {display: flex;align-items: stretch;justify-content: center;background-color: white;}div.sk-parallel-item {display: flex;flex-direction: column;position: relative;background-color: white;}div.sk-parallel-item:first-child::after {align-self: flex-end;width: 50%;}div.sk-parallel-item:last-child::after {align-self: flex-start;width: 50%;}div.sk-parallel-item:only-child::after {width: 0;}div.sk-dashed-wrapped {border: 1px dashed gray;margin: 0.2em;box-sizing: border-box;padding-bottom: 0.1em;background-color: white;position: relative;}div.sk-label label {font-family: monospace;font-weight: bold;background-color: white;display: inline-block;line-height: 1.2em;}div.sk-label-container {position: relative;z-index: 2;text-align: center;}div.sk-container {display: inline-block;position: relative;}</style><div class=\"sk-top-container\"><div class=\"sk-container\"><div class=\"sk-item sk-dashed-wrapped\"><div class=\"sk-label-container\"><div class=\"sk-label sk-toggleable\"><input class=\"sk-toggleable__control sk-hidden--visually\" id=\"9ac57bf4-27fa-436b-b6a2-9a51a6c31a69\" type=\"checkbox\" ><label class=\"sk-toggleable__label\" for=\"9ac57bf4-27fa-436b-b6a2-9a51a6c31a69\">Pipeline</label><div class=\"sk-toggleable__content\"><pre>Pipeline(steps=[('vect',\n",
       "                 CountVectorizer(tokenizer=<function tokenize at 0x000002202F726C80>)),\n",
       "                ('tfidf', TfidfTransformer()),\n",
       "                ('multiclassifier',\n",
       "                 MultiOutputClassifier(estimator=KNeighborsClassifier()))])</pre></div></div></div><div class=\"sk-serial\"><div class=\"sk-item\"><div class=\"sk-estimator sk-toggleable\"><input class=\"sk-toggleable__control sk-hidden--visually\" id=\"c33f2fb7-6d51-4b7a-9629-823026ae1963\" type=\"checkbox\" ><label class=\"sk-toggleable__label\" for=\"c33f2fb7-6d51-4b7a-9629-823026ae1963\">CountVectorizer</label><div class=\"sk-toggleable__content\"><pre>CountVectorizer(tokenizer=<function tokenize at 0x000002202F726C80>)</pre></div></div></div><div class=\"sk-item\"><div class=\"sk-estimator sk-toggleable\"><input class=\"sk-toggleable__control sk-hidden--visually\" id=\"3895b2a0-79c7-49cc-bdd4-ace663a796c3\" type=\"checkbox\" ><label class=\"sk-toggleable__label\" for=\"3895b2a0-79c7-49cc-bdd4-ace663a796c3\">TfidfTransformer</label><div class=\"sk-toggleable__content\"><pre>TfidfTransformer()</pre></div></div></div><div class=\"sk-item sk-dashed-wrapped\"><div class=\"sk-label-container\"><div class=\"sk-label sk-toggleable\"><input class=\"sk-toggleable__control sk-hidden--visually\" id=\"f6136747-2172-4cf0-ab0b-62e4d5735ef3\" type=\"checkbox\" ><label class=\"sk-toggleable__label\" for=\"f6136747-2172-4cf0-ab0b-62e4d5735ef3\">multiclassifier: MultiOutputClassifier</label><div class=\"sk-toggleable__content\"><pre>MultiOutputClassifier(estimator=KNeighborsClassifier())</pre></div></div></div><div class=\"sk-parallel\"><div class=\"sk-parallel-item\"><div class=\"sk-item\"><div class=\"sk-serial\"><div class=\"sk-item\"><div class=\"sk-estimator sk-toggleable\"><input class=\"sk-toggleable__control sk-hidden--visually\" id=\"bf309042-6cae-4ef7-b71e-5bb91336c10c\" type=\"checkbox\" ><label class=\"sk-toggleable__label\" for=\"bf309042-6cae-4ef7-b71e-5bb91336c10c\">KNeighborsClassifier</label><div class=\"sk-toggleable__content\"><pre>KNeighborsClassifier()</pre></div></div></div></div></div></div></div></div></div></div></div></div>"
      ],
      "text/plain": [
       "Pipeline(steps=[('vect',\n",
       "                 CountVectorizer(tokenizer=<function tokenize at 0x000002202F726C80>)),\n",
       "                ('tfidf', TfidfTransformer()),\n",
       "                ('multiclassifier',\n",
       "                 MultiOutputClassifier(estimator=KNeighborsClassifier()))])"
      ]
     },
     "execution_count": 140,
     "metadata": {},
     "output_type": "execute_result"
    }
   ],
   "source": [
    "# imports \n",
    "from sklearn import set_config                      # to change the display\n",
    "from sklearn.utils import estimator_html_repr       # to save the diagram into HTML format\n",
    "\n",
    "# set config to diagram for visualizing the pipelines/composite estimators\n",
    "set_config(display='diagram')\n",
    "\n",
    "nlp_pipeline_knn"
   ]
  },
  {
   "cell_type": "markdown",
   "metadata": {},
   "source": [
    "### 5. Test your model\n",
    "Report the f1 score, precision and recall for each output category of the dataset. You can do this by iterating through the columns and calling sklearn's `classification_report` on each."
   ]
  },
  {
   "cell_type": "code",
   "execution_count": 134,
   "metadata": {},
   "outputs": [],
   "source": [
    "def display_results(y_test, y_pred, model_name):\n",
    "    labels = np.unique(y_pred)\n",
    "    #confusion_mat = confusion_matrix(y_test, y_pred, labels=labels)\n",
    "    f_score = f1_score(y_test,y_pred, average='weighted')\n",
    "    accuracy = (y_pred == y_test).mean()\n",
    "\n",
    "    print(\"Model :\",model_name)\n",
    "    print(\"Labels:\", labels)\n",
    "#    print(\"Confusion Matrix:\\n\", confusion_mat)\n",
    "    print(\"F1 Score:\", f_score)\n",
    "    print(\"Accuracy:\", accuracy)"
   ]
  },
  {
   "cell_type": "code",
   "execution_count": 141,
   "metadata": {},
   "outputs": [
    {
     "name": "stdout",
     "output_type": "stream",
     "text": [
      "Model : RandomForestClassifier\n",
      "Labels: [0 1]\n",
      "F1 Score: 0.9496818744760687\n",
      "Accuracy: direct    0.951938\n",
      "news      0.969637\n",
      "social    0.979554\n",
      "dtype: float64\n",
      "Model : GradientBoostingClassifier\n",
      "Labels: [0 1]\n",
      "F1 Score: 0.9396907967824928\n",
      "Accuracy: direct    0.938969\n",
      "news      0.956973\n",
      "social    0.983827\n",
      "dtype: float64\n",
      "Model : KNeighborsClassifier\n",
      "Labels: [0 1]\n",
      "F1 Score: 0.8788030813267635\n",
      "Accuracy: direct    0.884193\n",
      "news      0.909521\n",
      "social    0.965365\n",
      "dtype: float64\n"
     ]
    }
   ],
   "source": [
    "# predict on test data\n",
    "\n",
    "y_pred = nlp_pipeline_rf.predict(X_test)\n",
    "# display results\n",
    "display_results(y_test, y_pred, \"RandomForestClassifier\")\n",
    "\n",
    "y_pred = nlp_pipeline_gb.predict(X_test)\n",
    "# display results\n",
    "display_results(y_test, y_pred, \"GradientBoostingClassifier\")\n",
    "\n",
    "y_pred = nlp_pipeline_knn.predict(X_test)\n",
    "# display results\n",
    "display_results(y_test, y_pred, \"KNeighborsClassifier\")"
   ]
  },
  {
   "cell_type": "code",
   "execution_count": 178,
   "metadata": {},
   "outputs": [],
   "source": [
    "from sklearn.model_selection import cross_val_score\n",
    "\n",
    "scores = cross_val_score(\n",
    "    nlp_pipeline_rf,\n",
    "    input_X, input_Y,\n",
    "    scoring='f1_weighted',\n",
    "    cv=5)"
   ]
  },
  {
   "cell_type": "code",
   "execution_count": 179,
   "metadata": {},
   "outputs": [
    {
     "data": {
      "text/plain": [
       "0.8649608122053211"
      ]
     },
     "execution_count": 179,
     "metadata": {},
     "output_type": "execute_result"
    }
   ],
   "source": [
    "scores.mean()"
   ]
  },
  {
   "cell_type": "code",
   "execution_count": 172,
   "metadata": {},
   "outputs": [],
   "source": [
    "scores = cross_val_score(\n",
    "    nlp_pipeline_gb,\n",
    "    input_X, input_Y,\n",
    "    scoring='f1_weighted',\n",
    "     cv=5)"
   ]
  },
  {
   "cell_type": "code",
   "execution_count": 173,
   "metadata": {},
   "outputs": [
    {
     "data": {
      "text/plain": [
       "0.8563593495138049"
      ]
     },
     "execution_count": 173,
     "metadata": {},
     "output_type": "execute_result"
    }
   ],
   "source": [
    "scores.mean()"
   ]
  },
  {
   "cell_type": "code",
   "execution_count": 183,
   "metadata": {},
   "outputs": [],
   "source": [
    "scores = cross_val_score(\n",
    "    nlp_pipeline_knn,\n",
    "    input_X, input_Y,\n",
    "    scoring='f1_weighted',\n",
    "     cv=5)"
   ]
  },
  {
   "cell_type": "code",
   "execution_count": 184,
   "metadata": {},
   "outputs": [
    {
     "data": {
      "text/plain": [
       "0.7838622323347498"
      ]
     },
     "execution_count": 184,
     "metadata": {},
     "output_type": "execute_result"
    }
   ],
   "source": [
    "scores.mean()"
   ]
  },
  {
   "cell_type": "markdown",
   "metadata": {},
   "source": [
    "### 6. Improve your model\n",
    "Use grid search to find better parameters. "
   ]
  },
  {
   "cell_type": "code",
   "execution_count": 29,
   "metadata": {},
   "outputs": [
    {
     "data": {
      "text/plain": [
       "{'memory': None,\n",
       " 'steps': [('vect',\n",
       "   CountVectorizer(tokenizer=<function tokenize at 0x00000292B110AF28>)),\n",
       "  ('tfidf', TfidfTransformer()),\n",
       "  ('multiclassifier', RandomForestClassifier())],\n",
       " 'verbose': False,\n",
       " 'vect': CountVectorizer(tokenizer=<function tokenize at 0x00000292B110AF28>),\n",
       " 'tfidf': TfidfTransformer(),\n",
       " 'multiclassifier': RandomForestClassifier(),\n",
       " 'vect__analyzer': 'word',\n",
       " 'vect__binary': False,\n",
       " 'vect__decode_error': 'strict',\n",
       " 'vect__dtype': numpy.int64,\n",
       " 'vect__encoding': 'utf-8',\n",
       " 'vect__input': 'content',\n",
       " 'vect__lowercase': True,\n",
       " 'vect__max_df': 1.0,\n",
       " 'vect__max_features': None,\n",
       " 'vect__min_df': 1,\n",
       " 'vect__ngram_range': (1, 1),\n",
       " 'vect__preprocessor': None,\n",
       " 'vect__stop_words': None,\n",
       " 'vect__strip_accents': None,\n",
       " 'vect__token_pattern': '(?u)\\\\b\\\\w\\\\w+\\\\b',\n",
       " 'vect__tokenizer': <function __main__.tokenize(text)>,\n",
       " 'vect__vocabulary': None,\n",
       " 'tfidf__norm': 'l2',\n",
       " 'tfidf__smooth_idf': True,\n",
       " 'tfidf__sublinear_tf': False,\n",
       " 'tfidf__use_idf': True,\n",
       " 'multiclassifier__bootstrap': True,\n",
       " 'multiclassifier__ccp_alpha': 0.0,\n",
       " 'multiclassifier__class_weight': None,\n",
       " 'multiclassifier__criterion': 'gini',\n",
       " 'multiclassifier__max_depth': None,\n",
       " 'multiclassifier__max_features': 'auto',\n",
       " 'multiclassifier__max_leaf_nodes': None,\n",
       " 'multiclassifier__max_samples': None,\n",
       " 'multiclassifier__min_impurity_decrease': 0.0,\n",
       " 'multiclassifier__min_impurity_split': None,\n",
       " 'multiclassifier__min_samples_leaf': 1,\n",
       " 'multiclassifier__min_samples_split': 2,\n",
       " 'multiclassifier__min_weight_fraction_leaf': 0.0,\n",
       " 'multiclassifier__n_estimators': 100,\n",
       " 'multiclassifier__n_jobs': None,\n",
       " 'multiclassifier__oob_score': False,\n",
       " 'multiclassifier__random_state': None,\n",
       " 'multiclassifier__verbose': 0,\n",
       " 'multiclassifier__warm_start': False}"
      ]
     },
     "execution_count": 29,
     "metadata": {},
     "output_type": "execute_result"
    }
   ],
   "source": [
    "nlp_pipeline_simple_rf.get_params()"
   ]
  },
  {
   "cell_type": "code",
   "execution_count": 54,
   "metadata": {},
   "outputs": [
    {
     "name": "stdout",
     "output_type": "stream",
     "text": [
      "Best Score: 0.9162060473600041\n",
      "Best Hyperparameters: {'vect__ngram_range': (1, 1), 'vect__max_features': 100, 'vect__max_df': 1.0, 'multiclassifier__n_estimators': 200, 'multiclassifier__max_features': 'auto', 'multiclassifier__max_depth': 100, 'multiclassifier__bootstrap': True}\n"
     ]
    }
   ],
   "source": [
    "from sklearn.model_selection import RandomizedSearchCV\n",
    "myscoring = make_scorer(f1_score,average='weighted')\n",
    "\n",
    "parameters = {\n",
    "    'vect__ngram_range': ((1, 1), (1, 2)),\n",
    "    'vect__max_df': (0.5, 0.75, 1.0),\n",
    "    'vect__max_features': (None, 100, 500, 2000, 5000),\n",
    "#    'tfidf__use_idf': (True, False),        \n",
    "     'multiclassifier__bootstrap': [True, False],\n",
    "     'multiclassifier__max_depth': [10, 20, 40, 100],\n",
    "     'multiclassifier__max_features': ['auto', 'sqrt'],\n",
    "#      'clf__min_samples_leaf': [1, 2, 4],\n",
    "#      'clf__min_samples_split': [2, 5, 10],\n",
    "     'multiclassifier__n_estimators': [100, 200, 400, 800, 1000] \n",
    "    }\n",
    "\n",
    "# create grid search object\n",
    "search = RandomizedSearchCV(nlp_pipeline_simple_rf, parameters, scoring=myscoring, n_jobs=-1)\n",
    "\n",
    "result = search.fit(input_X, Y)\n",
    "# summarize result\n",
    "print('Best Score: %s' % result.best_score_)\n",
    "print('Best Hyperparameters: %s' % result.best_params_)"
   ]
  },
  {
   "cell_type": "code",
   "execution_count": 55,
   "metadata": {},
   "outputs": [
    {
     "name": "stdout",
     "output_type": "stream",
     "text": [
      "0.821275 (0.030628) with: {'vect__ngram_range': (1, 2), 'vect__max_features': 5000, 'vect__max_df': 0.5, 'multiclassifier__n_estimators': 1000, 'multiclassifier__max_features': 'sqrt', 'multiclassifier__max_depth': 10, 'multiclassifier__bootstrap': False}\n",
      "0.916206 (0.015718) with: {'vect__ngram_range': (1, 1), 'vect__max_features': 100, 'vect__max_df': 1.0, 'multiclassifier__n_estimators': 200, 'multiclassifier__max_features': 'auto', 'multiclassifier__max_depth': 100, 'multiclassifier__bootstrap': True}\n",
      "0.822277 (0.032717) with: {'vect__ngram_range': (1, 1), 'vect__max_features': 5000, 'vect__max_df': 0.5, 'multiclassifier__n_estimators': 400, 'multiclassifier__max_features': 'auto', 'multiclassifier__max_depth': 10, 'multiclassifier__bootstrap': False}\n",
      "0.905120 (0.022904) with: {'vect__ngram_range': (1, 1), 'vect__max_features': 2000, 'vect__max_df': 0.75, 'multiclassifier__n_estimators': 400, 'multiclassifier__max_features': 'auto', 'multiclassifier__max_depth': 20, 'multiclassifier__bootstrap': False}\n",
      "0.910473 (0.016146) with: {'vect__ngram_range': (1, 2), 'vect__max_features': 100, 'vect__max_df': 1.0, 'multiclassifier__n_estimators': 800, 'multiclassifier__max_features': 'auto', 'multiclassifier__max_depth': 20, 'multiclassifier__bootstrap': True}\n",
      "0.914240 (0.025985) with: {'vect__ngram_range': (1, 2), 'vect__max_features': 500, 'vect__max_df': 0.75, 'multiclassifier__n_estimators': 1000, 'multiclassifier__max_features': 'sqrt', 'multiclassifier__max_depth': 40, 'multiclassifier__bootstrap': True}\n",
      "0.714327 (0.045950) with: {'vect__ngram_range': (1, 2), 'vect__max_features': None, 'vect__max_df': 0.75, 'multiclassifier__n_estimators': 1000, 'multiclassifier__max_features': 'sqrt', 'multiclassifier__max_depth': 10, 'multiclassifier__bootstrap': True}\n",
      "0.902868 (0.014338) with: {'vect__ngram_range': (1, 1), 'vect__max_features': 5000, 'vect__max_df': 1.0, 'multiclassifier__n_estimators': 400, 'multiclassifier__max_features': 'sqrt', 'multiclassifier__max_depth': 20, 'multiclassifier__bootstrap': True}\n",
      "0.720332 (0.044885) with: {'vect__ngram_range': (1, 2), 'vect__max_features': None, 'vect__max_df': 1.0, 'multiclassifier__n_estimators': 800, 'multiclassifier__max_features': 'auto', 'multiclassifier__max_depth': 10, 'multiclassifier__bootstrap': False}\n",
      "0.916180 (0.015660) with: {'vect__ngram_range': (1, 1), 'vect__max_features': 100, 'vect__max_df': 1.0, 'multiclassifier__n_estimators': 1000, 'multiclassifier__max_features': 'auto', 'multiclassifier__max_depth': 40, 'multiclassifier__bootstrap': True}\n"
     ]
    }
   ],
   "source": [
    "means = search.cv_results_['mean_test_score']\n",
    "stds = search.cv_results_['std_test_score']\n",
    "params = search.cv_results_['params']\n",
    "for mean, stdev, param in zip(means, stds, params):\n",
    "    print(\"%f (%f) with: %r\" % (mean, stdev, param))"
   ]
  },
  {
   "cell_type": "code",
   "execution_count": 31,
   "metadata": {},
   "outputs": [
    {
     "data": {
      "text/plain": [
       "{'memory': None,\n",
       " 'steps': [('vect',\n",
       "   CountVectorizer(tokenizer=<function tokenize at 0x00000292B110AF28>)),\n",
       "  ('tfidf', TfidfTransformer()),\n",
       "  ('multiclassifier', GradientBoostingClassifier())],\n",
       " 'verbose': False,\n",
       " 'vect': CountVectorizer(tokenizer=<function tokenize at 0x00000292B110AF28>),\n",
       " 'tfidf': TfidfTransformer(),\n",
       " 'multiclassifier': GradientBoostingClassifier(),\n",
       " 'vect__analyzer': 'word',\n",
       " 'vect__binary': False,\n",
       " 'vect__decode_error': 'strict',\n",
       " 'vect__dtype': numpy.int64,\n",
       " 'vect__encoding': 'utf-8',\n",
       " 'vect__input': 'content',\n",
       " 'vect__lowercase': True,\n",
       " 'vect__max_df': 1.0,\n",
       " 'vect__max_features': None,\n",
       " 'vect__min_df': 1,\n",
       " 'vect__ngram_range': (1, 1),\n",
       " 'vect__preprocessor': None,\n",
       " 'vect__stop_words': None,\n",
       " 'vect__strip_accents': None,\n",
       " 'vect__token_pattern': '(?u)\\\\b\\\\w\\\\w+\\\\b',\n",
       " 'vect__tokenizer': <function __main__.tokenize(text)>,\n",
       " 'vect__vocabulary': None,\n",
       " 'tfidf__norm': 'l2',\n",
       " 'tfidf__smooth_idf': True,\n",
       " 'tfidf__sublinear_tf': False,\n",
       " 'tfidf__use_idf': True,\n",
       " 'multiclassifier__ccp_alpha': 0.0,\n",
       " 'multiclassifier__criterion': 'friedman_mse',\n",
       " 'multiclassifier__init': None,\n",
       " 'multiclassifier__learning_rate': 0.1,\n",
       " 'multiclassifier__loss': 'deviance',\n",
       " 'multiclassifier__max_depth': 3,\n",
       " 'multiclassifier__max_features': None,\n",
       " 'multiclassifier__max_leaf_nodes': None,\n",
       " 'multiclassifier__min_impurity_decrease': 0.0,\n",
       " 'multiclassifier__min_impurity_split': None,\n",
       " 'multiclassifier__min_samples_leaf': 1,\n",
       " 'multiclassifier__min_samples_split': 2,\n",
       " 'multiclassifier__min_weight_fraction_leaf': 0.0,\n",
       " 'multiclassifier__n_estimators': 100,\n",
       " 'multiclassifier__n_iter_no_change': None,\n",
       " 'multiclassifier__presort': 'deprecated',\n",
       " 'multiclassifier__random_state': None,\n",
       " 'multiclassifier__subsample': 1.0,\n",
       " 'multiclassifier__tol': 0.0001,\n",
       " 'multiclassifier__validation_fraction': 0.1,\n",
       " 'multiclassifier__verbose': 0,\n",
       " 'multiclassifier__warm_start': False}"
      ]
     },
     "execution_count": 31,
     "metadata": {},
     "output_type": "execute_result"
    }
   ],
   "source": [
    "nlp_pipeline_simple_gb.get_params()"
   ]
  },
  {
   "cell_type": "code",
   "execution_count": 56,
   "metadata": {},
   "outputs": [
    {
     "name": "stdout",
     "output_type": "stream",
     "text": [
      "Best Score: 0.9359797156305045\n",
      "Best Hyperparameters: {'vect__ngram_range': (1, 1), 'vect__max_features': None, 'vect__max_df': 0.5, 'multiclassifier__n_estimators': 800, 'multiclassifier__max_features': 'auto', 'multiclassifier__max_depth': 10, 'multiclassifier__learning_rate': 0.1}\n"
     ]
    }
   ],
   "source": [
    "from sklearn.model_selection import RandomizedSearchCV\n",
    "myscoring = make_scorer(f1_score,average='weighted')\n",
    "\n",
    "parameters = {\n",
    "    'vect__ngram_range': ((1, 1), (1, 2)),\n",
    "    'vect__max_df': (0.5, 0.75, 1.0),\n",
    "    'vect__max_features': (None, 100, 500, 2000),\n",
    "#    'tfidf__use_idf': (True, False),\n",
    "    'multiclassifier__learning_rate': [0.01, 0.1 , 0.5],\n",
    "    'multiclassifier__max_depth': [5, 10, 20],\n",
    "    'multiclassifier__max_features': ['auto', 'sqrt'],\n",
    "#      'clf__min_samples_leaf': [1, 2, 4],\n",
    "#      'clf__min_samples_split': [2, 5, 10],\n",
    "    'multiclassifier__n_estimators': [100, 200, 400, 800] \n",
    "    }\n",
    "\n",
    "# create grid search object\n",
    "search = RandomizedSearchCV(nlp_pipeline_simple_gb, parameters, scoring=myscoring, n_jobs=-1)\n",
    "\n",
    "result = search.fit(input_X, Y)\n",
    "# summarize result\n",
    "print('Best Score: %s' % result.best_score_)\n",
    "print('Best Hyperparameters: %s' % result.best_params_)"
   ]
  },
  {
   "cell_type": "code",
   "execution_count": 57,
   "metadata": {},
   "outputs": [
    {
     "name": "stdout",
     "output_type": "stream",
     "text": [
      "0.913418 (0.025165) with: {'vect__ngram_range': (1, 2), 'vect__max_features': 500, 'vect__max_df': 0.5, 'multiclassifier__n_estimators': 800, 'multiclassifier__max_features': 'auto', 'multiclassifier__max_depth': 20, 'multiclassifier__learning_rate': 0.01}\n",
      "0.904463 (0.006643) with: {'vect__ngram_range': (1, 1), 'vect__max_features': 2000, 'vect__max_df': 1.0, 'multiclassifier__n_estimators': 100, 'multiclassifier__max_features': 'auto', 'multiclassifier__max_depth': 5, 'multiclassifier__learning_rate': 0.01}\n",
      "0.914691 (0.015233) with: {'vect__ngram_range': (1, 2), 'vect__max_features': 100, 'vect__max_df': 1.0, 'multiclassifier__n_estimators': 400, 'multiclassifier__max_features': 'auto', 'multiclassifier__max_depth': 20, 'multiclassifier__learning_rate': 0.1}\n",
      "0.921818 (0.023196) with: {'vect__ngram_range': (1, 2), 'vect__max_features': 500, 'vect__max_df': 0.75, 'multiclassifier__n_estimators': 200, 'multiclassifier__max_features': 'auto', 'multiclassifier__max_depth': 10, 'multiclassifier__learning_rate': 0.5}\n",
      "0.919621 (0.027175) with: {'vect__ngram_range': (1, 2), 'vect__max_features': 500, 'vect__max_df': 0.75, 'multiclassifier__n_estimators': 100, 'multiclassifier__max_features': 'sqrt', 'multiclassifier__max_depth': 10, 'multiclassifier__learning_rate': 0.1}\n",
      "0.935980 (0.031009) with: {'vect__ngram_range': (1, 1), 'vect__max_features': None, 'vect__max_df': 0.5, 'multiclassifier__n_estimators': 800, 'multiclassifier__max_features': 'auto', 'multiclassifier__max_depth': 10, 'multiclassifier__learning_rate': 0.1}\n",
      "0.902485 (0.018269) with: {'vect__ngram_range': (1, 1), 'vect__max_features': 100, 'vect__max_df': 0.75, 'multiclassifier__n_estimators': 800, 'multiclassifier__max_features': 'auto', 'multiclassifier__max_depth': 10, 'multiclassifier__learning_rate': 0.01}\n",
      "0.921608 (0.026712) with: {'vect__ngram_range': (1, 1), 'vect__max_features': None, 'vect__max_df': 0.5, 'multiclassifier__n_estimators': 800, 'multiclassifier__max_features': 'auto', 'multiclassifier__max_depth': 5, 'multiclassifier__learning_rate': 0.01}\n",
      "0.917815 (0.019534) with: {'vect__ngram_range': (1, 2), 'vect__max_features': 100, 'vect__max_df': 1.0, 'multiclassifier__n_estimators': 800, 'multiclassifier__max_features': 'sqrt', 'multiclassifier__max_depth': 20, 'multiclassifier__learning_rate': 0.1}\n",
      "0.889414 (0.017207) with: {'vect__ngram_range': (1, 2), 'vect__max_features': 100, 'vect__max_df': 0.5, 'multiclassifier__n_estimators': 400, 'multiclassifier__max_features': 'auto', 'multiclassifier__max_depth': 20, 'multiclassifier__learning_rate': 0.01}\n"
     ]
    }
   ],
   "source": [
    "means = search.cv_results_['mean_test_score']\n",
    "stds = search.cv_results_['std_test_score']\n",
    "params = search.cv_results_['params']\n",
    "for mean, stdev, param in zip(means, stds, params):\n",
    "    print(\"%f (%f) with: %r\" % (mean, stdev, param))"
   ]
  },
  {
   "cell_type": "code",
   "execution_count": 58,
   "metadata": {},
   "outputs": [
    {
     "data": {
      "text/plain": [
       "Pipeline(steps=[('vect',\n",
       "                 CountVectorizer(max_df=0.5,\n",
       "                                 tokenizer=<function tokenize at 0x00000292B110AF28>)),\n",
       "                ('tfidf', TfidfTransformer()),\n",
       "                ('multiclassifier',\n",
       "                 GradientBoostingClassifier(max_depth=10, max_features='auto',\n",
       "                                            n_estimators=800))])"
      ]
     },
     "execution_count": 58,
     "metadata": {},
     "output_type": "execute_result"
    }
   ],
   "source": [
    "search.best_estimator_"
   ]
  },
  {
   "cell_type": "code",
   "execution_count": 44,
   "metadata": {},
   "outputs": [
    {
     "data": {
      "text/plain": [
       "<function sklearn.model_selection._search.BaseSearchCV.decision_function(self, X)>"
      ]
     },
     "execution_count": 44,
     "metadata": {},
     "output_type": "execute_result"
    }
   ],
   "source": [
    "search.decision_function"
   ]
  },
  {
   "cell_type": "code",
   "execution_count": 59,
   "metadata": {},
   "outputs": [
    {
     "data": {
      "text/plain": [
       "array([0.00243089, 0.04827879, 0.00030631, ..., 0.        , 0.        ,\n",
       "       0.        ])"
      ]
     },
     "execution_count": 59,
     "metadata": {},
     "output_type": "execute_result"
    }
   ],
   "source": [
    "search.best_estimator_.steps[2][1].feature_importances_"
   ]
  },
  {
   "cell_type": "code",
   "execution_count": null,
   "metadata": {},
   "outputs": [],
   "source": [
    "search.best_estimator_.predict()\n",
    "\n",
    "y_pred = search.best_estimator_.predict(X_test)\n",
    "cm = confusion_matrix(y_test, predictions, labels=clf.classes_)\n",
    "disp = ConfusionMatrixDisplay(confusion_matrix=cm,display_labels=clf.classes_)\n",
    "disp.plot() "
   ]
  },
  {
   "cell_type": "code",
   "execution_count": 21,
   "metadata": {},
   "outputs": [],
   "source": [
    "from sklearn.model_selection import StratifiedKFold\n",
    "from sklearn.model_selection import cross_val_score\n",
    "\n",
    "kfold = StratifiedKFold(n_splits=5, shuffle=True, random_state=1)\n",
    "\n",
    "# create grid search object\n",
    "scores = cross_val_score(\n",
    "    nlp_pipeline_simple_rf,\n",
    "    input_X, Y,\n",
    "    scoring='f1_weighted',\n",
    "     cv=kfold)"
   ]
  },
  {
   "cell_type": "code",
   "execution_count": 22,
   "metadata": {},
   "outputs": [
    {
     "data": {
      "text/plain": [
       "0.9495653487759108"
      ]
     },
     "execution_count": 22,
     "metadata": {},
     "output_type": "execute_result"
    }
   ],
   "source": [
    "scores.mean()"
   ]
  },
  {
   "cell_type": "code",
   "execution_count": null,
   "metadata": {},
   "outputs": [],
   "source": [
    "from sklearn.model_selection import StratifiedKFold\n",
    "from sklearn.model_selection import cross_val_score\n",
    "\n",
    "kfold = StratifiedKFold(n_splits=5, shuffle=True, random_state=1)\n",
    "\n",
    "# create grid search object\n",
    "scores = cross_val_score(\n",
    "    nlp_pipeline_simple_rf,\n",
    "    input_X, Y,\n",
    "    scoring='f1_weighted',\n",
    "     cv=kfold)"
   ]
  },
  {
   "cell_type": "code",
   "execution_count": 24,
   "metadata": {},
   "outputs": [
    {
     "data": {
      "text/plain": [
       "0.9488302523758552"
      ]
     },
     "execution_count": 24,
     "metadata": {},
     "output_type": "execute_result"
    }
   ],
   "source": [
    "kfold = StratifiedKFold(n_splits=5, shuffle=True, random_state=1)\n",
    "\n",
    "# create grid search object\n",
    "scores = cross_val_score(\n",
    "    nlp_pipeline_simple_gb,\n",
    "    input_X, Y,\n",
    "    scoring='f1_weighted',\n",
    "     cv=kfold)\n",
    "\n",
    "scores.mean()"
   ]
  },
  {
   "cell_type": "markdown",
   "metadata": {},
   "source": [
    "### 7. Test your model\n",
    "Show the accuracy, precision, and recall of the tuned model.  \n",
    "\n",
    "Since this project focuses on code quality, process, and  pipelines, there is no minimum performance metric needed to pass. However, make sure to fine tune your models for accuracy, precision and recall to make your project stand out - especially for your portfolio!"
   ]
  },
  {
   "cell_type": "code",
   "execution_count": null,
   "metadata": {},
   "outputs": [],
   "source": []
  },
  {
   "cell_type": "markdown",
   "metadata": {},
   "source": [
    "### 8. Try improving your model further. Here are a few ideas:\n",
    "* try other machine learning algorithms\n",
    "* add other features besides the TF-IDF"
   ]
  },
  {
   "cell_type": "code",
   "execution_count": null,
   "metadata": {},
   "outputs": [],
   "source": []
  },
  {
   "cell_type": "markdown",
   "metadata": {},
   "source": [
    "### 9. Export your model as a pickle file"
   ]
  },
  {
   "cell_type": "code",
   "execution_count": null,
   "metadata": {},
   "outputs": [],
   "source": []
  },
  {
   "cell_type": "code",
   "execution_count": 62,
   "metadata": {},
   "outputs": [
    {
     "ename": "FileNotFoundError",
     "evalue": "[Errno 2] No such file or directory: '../model/nlp_pipeline_simple_gb.pkl'",
     "output_type": "error",
     "traceback": [
      "\u001b[1;31m---------------------------------------------------------------------------\u001b[0m",
      "\u001b[1;31mFileNotFoundError\u001b[0m                         Traceback (most recent call last)",
      "\u001b[1;32m<ipython-input-62-95bcd015c783>\u001b[0m in \u001b[0;36m<module>\u001b[1;34m\u001b[0m\n\u001b[0;32m      2\u001b[0m \u001b[0mmodel_dir\u001b[0m \u001b[1;33m=\u001b[0m \u001b[1;34m'../model/'\u001b[0m\u001b[1;33m\u001b[0m\u001b[1;33m\u001b[0m\u001b[0m\n\u001b[0;32m      3\u001b[0m \u001b[1;33m\u001b[0m\u001b[0m\n\u001b[1;32m----> 4\u001b[1;33m \u001b[0mpickle\u001b[0m\u001b[1;33m.\u001b[0m\u001b[0mdump\u001b[0m\u001b[1;33m(\u001b[0m\u001b[0msearch\u001b[0m\u001b[1;33m.\u001b[0m\u001b[0mbest_estimator_\u001b[0m\u001b[1;33m,\u001b[0m \u001b[0mopen\u001b[0m\u001b[1;33m(\u001b[0m\u001b[0mmodel_dir\u001b[0m\u001b[1;33m+\u001b[0m\u001b[1;34m'nlp_pipeline_simple_gb.pkl'\u001b[0m\u001b[1;33m,\u001b[0m \u001b[1;34m'wb'\u001b[0m\u001b[1;33m)\u001b[0m\u001b[1;33m)\u001b[0m\u001b[1;33m\u001b[0m\u001b[1;33m\u001b[0m\u001b[0m\n\u001b[0m\u001b[0;32m      5\u001b[0m \u001b[1;33m\u001b[0m\u001b[0m\n\u001b[0;32m      6\u001b[0m \u001b[1;31m# some time later...\u001b[0m\u001b[1;33m\u001b[0m\u001b[1;33m\u001b[0m\u001b[1;33m\u001b[0m\u001b[0m\n",
      "\u001b[1;31mFileNotFoundError\u001b[0m: [Errno 2] No such file or directory: '../model/nlp_pipeline_simple_gb.pkl'"
     ]
    }
   ],
   "source": [
    "import pickle\n",
    "model_dir = '../model/'\n",
    "\n",
    "pickle.dump(search.best_estimator_, open(model_dir+'nlp_pipeline_simple_gb.pkl', 'wb'))\n",
    " \n",
    "# some time later...\n",
    " \n",
    "# load the model from disk\n",
    "#loaded_model = pickle.load(open(filename, 'rb'))\n",
    "#result = loaded_model.score(X_test, Y_test)\n",
    "#print(result)\n"
   ]
  },
  {
   "cell_type": "markdown",
   "metadata": {},
   "source": [
    "### 10. Use this notebook to complete `train.py`\n",
    "Use the template file attached in the Resources folder to write a script that runs the steps above to create a database and export a model based on a new dataset specified by the user."
   ]
  },
  {
   "cell_type": "code",
   "execution_count": null,
   "metadata": {},
   "outputs": [],
   "source": []
  }
 ],
 "metadata": {
  "kernelspec": {
   "display_name": "Python 3",
   "language": "python",
   "name": "python3"
  },
  "language_info": {
   "codemirror_mode": {
    "name": "ipython",
    "version": 3
   },
   "file_extension": ".py",
   "mimetype": "text/x-python",
   "name": "python",
   "nbconvert_exporter": "python",
   "pygments_lexer": "ipython3",
   "version": "3.6.12"
  }
 },
 "nbformat": 4,
 "nbformat_minor": 2
}
