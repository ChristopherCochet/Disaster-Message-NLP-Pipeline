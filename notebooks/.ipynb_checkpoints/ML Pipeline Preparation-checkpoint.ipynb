{
 "cells": [
  {
   "cell_type": "markdown",
   "metadata": {},
   "source": [
    "# ML Pipeline Preparation\n",
    "Follow the instructions below to help you create your ML pipeline.\n",
    "### 1. Import libraries and load data from database.\n",
    "- Import Python libraries\n",
    "- Load dataset from database with [`read_sql_table`](https://pandas.pydata.org/pandas-docs/stable/generated/pandas.read_sql_table.html)\n",
    "- Define feature and target variables X and Y"
   ]
  },
  {
   "cell_type": "code",
   "execution_count": 24,
   "metadata": {},
   "outputs": [
    {
     "name": "stderr",
     "output_type": "stream",
     "text": [
      "[nltk_data] Downloading package punkt to C:\\Users\\Chris\n",
      "[nltk_data]     Cochet\\AppData\\Roaming\\nltk_data...\n",
      "[nltk_data]   Package punkt is already up-to-date!\n",
      "[nltk_data] Downloading package wordnet to C:\\Users\\Chris\n",
      "[nltk_data]     Cochet\\AppData\\Roaming\\nltk_data...\n",
      "[nltk_data]   Package wordnet is already up-to-date!\n",
      "[nltk_data] Downloading package averaged_perceptron_tagger to\n",
      "[nltk_data]     C:\\Users\\Chris Cochet\\AppData\\Roaming\\nltk_data...\n",
      "[nltk_data]   Package averaged_perceptron_tagger is already up-to-\n",
      "[nltk_data]       date!\n"
     ]
    }
   ],
   "source": [
    "# import libraries\n",
    "import pandas as pd\n",
    "import numpy as np\n",
    "import matplotlib.pyplot as plt\n",
    "import re\n",
    "import nltk\n",
    "import matplotlib.patches as mpatches\n",
    "import plotly.express as px\n",
    "\n",
    "import warnings\n",
    "warnings.filterwarnings('UndefinedMetricWarning')\n",
    "\n",
    "from datetime import datetime\n",
    "from sqlalchemy import create_engine\n",
    "nltk.download(['punkt', 'wordnet', 'averaged_perceptron_tagger'])\n",
    "from nltk.tokenize import word_tokenize\n",
    "from nltk.stem import WordNetLemmatizer\n",
    "\n",
    "from sklearn.pipeline import Pipeline\n",
    "from sklearn.experimental import enable_hist_gradient_boosting \n",
    "from sklearn.multioutput import MultiOutputClassifier, ClassifierChain\n",
    "from sklearn.feature_extraction.text import CountVectorizer, TfidfTransformer,TfidfVectorizer\n",
    "from sklearn.decomposition import PCA, TruncatedSVD\n",
    "from sklearn.ensemble import RandomForestClassifier, GradientBoostingClassifier,HistGradientBoostingClassifier\n",
    "from sklearn.neighbors import KNeighborsClassifier\n",
    "from sklearn.model_selection import train_test_split\n",
    "from sklearn.metrics import confusion_matrix, f1_score, make_scorer, ConfusionMatrixDisplay, classification_report\n",
    "from sklearn.model_selection import cross_val_score, RandomizedSearchCV,  RepeatedStratifiedKFold\n",
    "from lightgbm import LGBMClassifier, plot_importance\n",
    "from sklearn import set_config                      # to change the display\n",
    "\n",
    "from lime import lime_text\n",
    "from lime.lime_text import LimeTextExplainer "
   ]
  },
  {
   "cell_type": "code",
   "execution_count": 5,
   "metadata": {},
   "outputs": [
    {
     "name": "stdout",
     "output_type": "stream",
     "text": [
      " Volume in drive E is DATA\n",
      " Volume Serial Number is 6E98-6AE7\n",
      "\n",
      " Directory of E:\\GitHub\\Disaster-Recovery-Message_Classification\\data\n",
      "\n",
      "02/19/2021  08:04 PM    <DIR>          .\n",
      "02/19/2021  08:04 PM    <DIR>          ..\n",
      "02/15/2021  08:44 PM        12,808,192 disaster-message.db\n",
      "02/19/2021  08:04 PM         6,406,144 DisasterResponse.db\n",
      "01/31/2021  05:44 PM        11,854,295 disaster_categories.csv\n",
      "01/31/2021  05:44 PM         5,064,273 disaster_messages.csv\n",
      "               4 File(s)     36,132,904 bytes\n",
      "               2 Dir(s)  1,842,219,327,488 bytes free\n"
     ]
    }
   ],
   "source": [
    "! dir \"../data\""
   ]
  },
  {
   "cell_type": "code",
   "execution_count": 6,
   "metadata": {},
   "outputs": [],
   "source": [
    "# load data from database\n",
    "engine = create_engine('sqlite:///../data/DisasterResponse.db')\n",
    "\n",
    "df = pd.read_sql_query(\"SELECT * FROM messages\", con = engine)\n",
    "df = df.set_index('id')\n",
    "X = df['message']\n",
    "Y = df.iloc[:,3:]"
   ]
  },
  {
   "cell_type": "code",
   "execution_count": 7,
   "metadata": {},
   "outputs": [
    {
     "data": {
      "text/html": [
       "<div>\n",
       "<style scoped>\n",
       "    .dataframe tbody tr th:only-of-type {\n",
       "        vertical-align: middle;\n",
       "    }\n",
       "\n",
       "    .dataframe tbody tr th {\n",
       "        vertical-align: top;\n",
       "    }\n",
       "\n",
       "    .dataframe thead th {\n",
       "        text-align: right;\n",
       "    }\n",
       "</style>\n",
       "<table border=\"1\" class=\"dataframe\">\n",
       "  <thead>\n",
       "    <tr style=\"text-align: right;\">\n",
       "      <th></th>\n",
       "      <th>message</th>\n",
       "      <th>original</th>\n",
       "      <th>genre</th>\n",
       "      <th>related</th>\n",
       "      <th>request</th>\n",
       "      <th>offer</th>\n",
       "      <th>aid_related</th>\n",
       "      <th>medical_help</th>\n",
       "      <th>medical_products</th>\n",
       "      <th>search_and_rescue</th>\n",
       "      <th>...</th>\n",
       "      <th>aid_centers</th>\n",
       "      <th>other_infrastructure</th>\n",
       "      <th>weather_related</th>\n",
       "      <th>floods</th>\n",
       "      <th>storm</th>\n",
       "      <th>fire</th>\n",
       "      <th>earthquake</th>\n",
       "      <th>cold</th>\n",
       "      <th>other_weather</th>\n",
       "      <th>direct_report</th>\n",
       "    </tr>\n",
       "    <tr>\n",
       "      <th>id</th>\n",
       "      <th></th>\n",
       "      <th></th>\n",
       "      <th></th>\n",
       "      <th></th>\n",
       "      <th></th>\n",
       "      <th></th>\n",
       "      <th></th>\n",
       "      <th></th>\n",
       "      <th></th>\n",
       "      <th></th>\n",
       "      <th></th>\n",
       "      <th></th>\n",
       "      <th></th>\n",
       "      <th></th>\n",
       "      <th></th>\n",
       "      <th></th>\n",
       "      <th></th>\n",
       "      <th></th>\n",
       "      <th></th>\n",
       "      <th></th>\n",
       "      <th></th>\n",
       "    </tr>\n",
       "  </thead>\n",
       "  <tbody>\n",
       "    <tr>\n",
       "      <th>2</th>\n",
       "      <td>Weather update - a cold front from Cuba that c...</td>\n",
       "      <td>Un front froid se retrouve sur Cuba ce matin. ...</td>\n",
       "      <td>direct</td>\n",
       "      <td>1</td>\n",
       "      <td>0</td>\n",
       "      <td>0</td>\n",
       "      <td>0</td>\n",
       "      <td>0</td>\n",
       "      <td>0</td>\n",
       "      <td>0</td>\n",
       "      <td>...</td>\n",
       "      <td>0</td>\n",
       "      <td>0</td>\n",
       "      <td>0</td>\n",
       "      <td>0</td>\n",
       "      <td>0</td>\n",
       "      <td>0</td>\n",
       "      <td>0</td>\n",
       "      <td>0</td>\n",
       "      <td>0</td>\n",
       "      <td>0</td>\n",
       "    </tr>\n",
       "    <tr>\n",
       "      <th>7</th>\n",
       "      <td>Is the Hurricane over or is it not over</td>\n",
       "      <td>Cyclone nan fini osinon li pa fini</td>\n",
       "      <td>direct</td>\n",
       "      <td>1</td>\n",
       "      <td>0</td>\n",
       "      <td>0</td>\n",
       "      <td>1</td>\n",
       "      <td>0</td>\n",
       "      <td>0</td>\n",
       "      <td>0</td>\n",
       "      <td>...</td>\n",
       "      <td>0</td>\n",
       "      <td>0</td>\n",
       "      <td>1</td>\n",
       "      <td>0</td>\n",
       "      <td>1</td>\n",
       "      <td>0</td>\n",
       "      <td>0</td>\n",
       "      <td>0</td>\n",
       "      <td>0</td>\n",
       "      <td>0</td>\n",
       "    </tr>\n",
       "    <tr>\n",
       "      <th>8</th>\n",
       "      <td>Looking for someone but no name</td>\n",
       "      <td>Patnm, di Maryani relem pou li banm nouvel li ...</td>\n",
       "      <td>direct</td>\n",
       "      <td>1</td>\n",
       "      <td>0</td>\n",
       "      <td>0</td>\n",
       "      <td>0</td>\n",
       "      <td>0</td>\n",
       "      <td>0</td>\n",
       "      <td>0</td>\n",
       "      <td>...</td>\n",
       "      <td>0</td>\n",
       "      <td>0</td>\n",
       "      <td>0</td>\n",
       "      <td>0</td>\n",
       "      <td>0</td>\n",
       "      <td>0</td>\n",
       "      <td>0</td>\n",
       "      <td>0</td>\n",
       "      <td>0</td>\n",
       "      <td>0</td>\n",
       "    </tr>\n",
       "    <tr>\n",
       "      <th>9</th>\n",
       "      <td>UN reports Leogane 80-90 destroyed. Only Hospi...</td>\n",
       "      <td>UN reports Leogane 80-90 destroyed. Only Hospi...</td>\n",
       "      <td>direct</td>\n",
       "      <td>1</td>\n",
       "      <td>1</td>\n",
       "      <td>0</td>\n",
       "      <td>1</td>\n",
       "      <td>0</td>\n",
       "      <td>1</td>\n",
       "      <td>0</td>\n",
       "      <td>...</td>\n",
       "      <td>0</td>\n",
       "      <td>0</td>\n",
       "      <td>0</td>\n",
       "      <td>0</td>\n",
       "      <td>0</td>\n",
       "      <td>0</td>\n",
       "      <td>0</td>\n",
       "      <td>0</td>\n",
       "      <td>0</td>\n",
       "      <td>0</td>\n",
       "    </tr>\n",
       "    <tr>\n",
       "      <th>12</th>\n",
       "      <td>says: west side of Haiti, rest of the country ...</td>\n",
       "      <td>facade ouest d Haiti et le reste du pays aujou...</td>\n",
       "      <td>direct</td>\n",
       "      <td>1</td>\n",
       "      <td>0</td>\n",
       "      <td>0</td>\n",
       "      <td>0</td>\n",
       "      <td>0</td>\n",
       "      <td>0</td>\n",
       "      <td>0</td>\n",
       "      <td>...</td>\n",
       "      <td>0</td>\n",
       "      <td>0</td>\n",
       "      <td>0</td>\n",
       "      <td>0</td>\n",
       "      <td>0</td>\n",
       "      <td>0</td>\n",
       "      <td>0</td>\n",
       "      <td>0</td>\n",
       "      <td>0</td>\n",
       "      <td>0</td>\n",
       "    </tr>\n",
       "  </tbody>\n",
       "</table>\n",
       "<p>5 rows × 39 columns</p>\n",
       "</div>"
      ],
      "text/plain": [
       "                                              message  \\\n",
       "id                                                      \n",
       "2   Weather update - a cold front from Cuba that c...   \n",
       "7             Is the Hurricane over or is it not over   \n",
       "8                     Looking for someone but no name   \n",
       "9   UN reports Leogane 80-90 destroyed. Only Hospi...   \n",
       "12  says: west side of Haiti, rest of the country ...   \n",
       "\n",
       "                                             original   genre  related  \\\n",
       "id                                                                       \n",
       "2   Un front froid se retrouve sur Cuba ce matin. ...  direct        1   \n",
       "7                  Cyclone nan fini osinon li pa fini  direct        1   \n",
       "8   Patnm, di Maryani relem pou li banm nouvel li ...  direct        1   \n",
       "9   UN reports Leogane 80-90 destroyed. Only Hospi...  direct        1   \n",
       "12  facade ouest d Haiti et le reste du pays aujou...  direct        1   \n",
       "\n",
       "    request  offer  aid_related  medical_help  medical_products  \\\n",
       "id                                                                \n",
       "2         0      0            0             0                 0   \n",
       "7         0      0            1             0                 0   \n",
       "8         0      0            0             0                 0   \n",
       "9         1      0            1             0                 1   \n",
       "12        0      0            0             0                 0   \n",
       "\n",
       "    search_and_rescue  ...  aid_centers  other_infrastructure  \\\n",
       "id                     ...                                      \n",
       "2                   0  ...            0                     0   \n",
       "7                   0  ...            0                     0   \n",
       "8                   0  ...            0                     0   \n",
       "9                   0  ...            0                     0   \n",
       "12                  0  ...            0                     0   \n",
       "\n",
       "    weather_related  floods  storm  fire  earthquake  cold  other_weather  \\\n",
       "id                                                                          \n",
       "2                 0       0      0     0           0     0              0   \n",
       "7                 1       0      1     0           0     0              0   \n",
       "8                 0       0      0     0           0     0              0   \n",
       "9                 0       0      0     0           0     0              0   \n",
       "12                0       0      0     0           0     0              0   \n",
       "\n",
       "    direct_report  \n",
       "id                 \n",
       "2               0  \n",
       "7               0  \n",
       "8               0  \n",
       "9               0  \n",
       "12              0  \n",
       "\n",
       "[5 rows x 39 columns]"
      ]
     },
     "execution_count": 7,
     "metadata": {},
     "output_type": "execute_result"
    }
   ],
   "source": [
    "df.head()"
   ]
  },
  {
   "cell_type": "code",
   "execution_count": 8,
   "metadata": {},
   "outputs": [
    {
     "data": {
      "text/plain": [
       "id\n",
       "2    Weather update - a cold front from Cuba that c...\n",
       "7              Is the Hurricane over or is it not over\n",
       "Name: message, dtype: object"
      ]
     },
     "metadata": {},
     "output_type": "display_data"
    },
    {
     "data": {
      "text/html": [
       "<div>\n",
       "<style scoped>\n",
       "    .dataframe tbody tr th:only-of-type {\n",
       "        vertical-align: middle;\n",
       "    }\n",
       "\n",
       "    .dataframe tbody tr th {\n",
       "        vertical-align: top;\n",
       "    }\n",
       "\n",
       "    .dataframe thead th {\n",
       "        text-align: right;\n",
       "    }\n",
       "</style>\n",
       "<table border=\"1\" class=\"dataframe\">\n",
       "  <thead>\n",
       "    <tr style=\"text-align: right;\">\n",
       "      <th></th>\n",
       "      <th>related</th>\n",
       "      <th>request</th>\n",
       "      <th>offer</th>\n",
       "      <th>aid_related</th>\n",
       "      <th>medical_help</th>\n",
       "      <th>medical_products</th>\n",
       "      <th>search_and_rescue</th>\n",
       "      <th>security</th>\n",
       "      <th>military</th>\n",
       "      <th>child_alone</th>\n",
       "      <th>...</th>\n",
       "      <th>aid_centers</th>\n",
       "      <th>other_infrastructure</th>\n",
       "      <th>weather_related</th>\n",
       "      <th>floods</th>\n",
       "      <th>storm</th>\n",
       "      <th>fire</th>\n",
       "      <th>earthquake</th>\n",
       "      <th>cold</th>\n",
       "      <th>other_weather</th>\n",
       "      <th>direct_report</th>\n",
       "    </tr>\n",
       "    <tr>\n",
       "      <th>id</th>\n",
       "      <th></th>\n",
       "      <th></th>\n",
       "      <th></th>\n",
       "      <th></th>\n",
       "      <th></th>\n",
       "      <th></th>\n",
       "      <th></th>\n",
       "      <th></th>\n",
       "      <th></th>\n",
       "      <th></th>\n",
       "      <th></th>\n",
       "      <th></th>\n",
       "      <th></th>\n",
       "      <th></th>\n",
       "      <th></th>\n",
       "      <th></th>\n",
       "      <th></th>\n",
       "      <th></th>\n",
       "      <th></th>\n",
       "      <th></th>\n",
       "      <th></th>\n",
       "    </tr>\n",
       "  </thead>\n",
       "  <tbody>\n",
       "    <tr>\n",
       "      <th>2</th>\n",
       "      <td>1</td>\n",
       "      <td>0</td>\n",
       "      <td>0</td>\n",
       "      <td>0</td>\n",
       "      <td>0</td>\n",
       "      <td>0</td>\n",
       "      <td>0</td>\n",
       "      <td>0</td>\n",
       "      <td>0</td>\n",
       "      <td>0</td>\n",
       "      <td>...</td>\n",
       "      <td>0</td>\n",
       "      <td>0</td>\n",
       "      <td>0</td>\n",
       "      <td>0</td>\n",
       "      <td>0</td>\n",
       "      <td>0</td>\n",
       "      <td>0</td>\n",
       "      <td>0</td>\n",
       "      <td>0</td>\n",
       "      <td>0</td>\n",
       "    </tr>\n",
       "    <tr>\n",
       "      <th>7</th>\n",
       "      <td>1</td>\n",
       "      <td>0</td>\n",
       "      <td>0</td>\n",
       "      <td>1</td>\n",
       "      <td>0</td>\n",
       "      <td>0</td>\n",
       "      <td>0</td>\n",
       "      <td>0</td>\n",
       "      <td>0</td>\n",
       "      <td>0</td>\n",
       "      <td>...</td>\n",
       "      <td>0</td>\n",
       "      <td>0</td>\n",
       "      <td>1</td>\n",
       "      <td>0</td>\n",
       "      <td>1</td>\n",
       "      <td>0</td>\n",
       "      <td>0</td>\n",
       "      <td>0</td>\n",
       "      <td>0</td>\n",
       "      <td>0</td>\n",
       "    </tr>\n",
       "  </tbody>\n",
       "</table>\n",
       "<p>2 rows × 36 columns</p>\n",
       "</div>"
      ],
      "text/plain": [
       "    related  request  offer  aid_related  medical_help  medical_products  \\\n",
       "id                                                                         \n",
       "2         1        0      0            0             0                 0   \n",
       "7         1        0      0            1             0                 0   \n",
       "\n",
       "    search_and_rescue  security  military  child_alone  ...  aid_centers  \\\n",
       "id                                                      ...                \n",
       "2                   0         0         0            0  ...            0   \n",
       "7                   0         0         0            0  ...            0   \n",
       "\n",
       "    other_infrastructure  weather_related  floods  storm  fire  earthquake  \\\n",
       "id                                                                           \n",
       "2                      0                0       0      0     0           0   \n",
       "7                      0                1       0      1     0           0   \n",
       "\n",
       "    cold  other_weather  direct_report  \n",
       "id                                      \n",
       "2      0              0              0  \n",
       "7      0              0              0  \n",
       "\n",
       "[2 rows x 36 columns]"
      ]
     },
     "metadata": {},
     "output_type": "display_data"
    }
   ],
   "source": [
    "# inspect the X, Y dataframes\n",
    "display(X.head(2), Y.head(2))"
   ]
  },
  {
   "cell_type": "markdown",
   "metadata": {},
   "source": [
    "### 2. Write a tokenization function to process your text data"
   ]
  },
  {
   "cell_type": "code",
   "execution_count": 9,
   "metadata": {},
   "outputs": [],
   "source": [
    "def tokenize(text):\n",
    "    tokens = word_tokenize(text)\n",
    "    lemmatizer = WordNetLemmatizer()\n",
    "\n",
    "    clean_tokens = []\n",
    "    for tok in tokens:\n",
    "        clean_tok = lemmatizer.lemmatize(tok).lower().strip()\n",
    "        clean_tokens.append(clean_tok)\n",
    "\n",
    "    return clean_tokens"
   ]
  },
  {
   "cell_type": "markdown",
   "metadata": {},
   "source": [
    "### 3. Build multiples machine learning pipeline \n",
    "This machine pipeline should take in the `message` column as input and output classification results on the other 36 categories in the dataset. You may find the [MultiOutputClassifier](http://scikit-learn.org/stable/modules/generated/sklearn.multioutput.MultiOutputClassifier.html) helpful for predicting multiple target variables.\n",
    "\n",
    "* try other machine learning algorithms\n",
    "* add other features besides the TF-IDF"
   ]
  },
  {
   "cell_type": "code",
   "execution_count": 10,
   "metadata": {},
   "outputs": [],
   "source": [
    "# Define different pipelines\n",
    "from sklearn.preprocessing import FunctionTransformer\n",
    "\n",
    "nlp_mo_pipeline_hb = Pipeline([\n",
    "                        ('tfidfvect', TfidfVectorizer(tokenizer=tokenize)),\n",
    "                        ('FunctionTransformer', FunctionTransformer(lambda x: x.todense(), accept_sparse=True)), \n",
    "                        ('multiclassifier',MultiOutputClassifier(HistGradientBoostingClassifier()))\n",
    "                    ])    \n",
    "    \n",
    "nlp_mo_pipeline_rf = Pipeline([\n",
    "                        ('tfidfvect', TfidfVectorizer(tokenizer=tokenize)),\n",
    "                        ('multiclassifier',MultiOutputClassifier(RandomForestClassifier(n_jobs=-1)))\n",
    "                    ])\n",
    "\n",
    "nlp_mo_pipeline_lgb = Pipeline([\n",
    "                        ('tfidfvect', TfidfVectorizer(tokenizer=tokenize)),\n",
    "                        ('multiclassifier',MultiOutputClassifier(LGBMClassifier(n_jobs=-1)))\n",
    "                    ])\n",
    "\n",
    "nlp_chain_nlp_pipeline_lgb = Pipeline([\n",
    "                        ('tfidfvect', TfidfVectorizer(tokenizer=tokenize)),\n",
    "                        ('classifierchain',ClassifierChain(LGBMClassifier(n_jobs=-1)))\n",
    "                    ])"
   ]
  },
  {
   "cell_type": "code",
   "execution_count": 15,
   "metadata": {},
   "outputs": [],
   "source": [
    "pipeline_dict = {'nlp_mo_pipeline_rf': nlp_mo_pipeline_rf, \\\n",
    "                 'nlp_mo_pipeline_lgb ': nlp_mo_pipeline_lgb, \\\n",
    "                 'nlp_chain_nlp_pipeline_lgb':nlp_chain_nlp_pipeline_lgb } "
   ]
  },
  {
   "cell_type": "markdown",
   "metadata": {},
   "source": [
    "### 4. Identify Best pipeline\n",
    "- Split data into train and test sets\n",
    "- Train pipeline"
   ]
  },
  {
   "cell_type": "code",
   "execution_count": 26,
   "metadata": {},
   "outputs": [
    {
     "name": "stderr",
     "output_type": "stream",
     "text": [
      "E:\\MiniConda\\envs\\nlp_pipeline\\lib\\site-packages\\ipykernel\\ipkernel.py:287: DeprecationWarning: `should_run_async` will not call `transform_cell` automatically in the future. Please pass the result to `transformed_cell` argument and any exception that happen during thetransform in `preprocessing_exc_tuple` in IPython 7.17 and above.\n",
      "  and should_run_async(code)\n"
     ]
    }
   ],
   "source": [
    "pipeline_dict = {'nlp_mo_pipeline_lgb': nlp_mo_pipeline_lgb }"
   ]
  },
  {
   "cell_type": "code",
   "execution_count": 27,
   "metadata": {},
   "outputs": [
    {
     "name": "stderr",
     "output_type": "stream",
     "text": [
      "E:\\MiniConda\\envs\\nlp_pipeline\\lib\\site-packages\\ipykernel\\ipkernel.py:287: DeprecationWarning: `should_run_async` will not call `transform_cell` automatically in the future. Please pass the result to `transformed_cell` argument and any exception that happen during thetransform in `preprocessing_exc_tuple` in IPython 7.17 and above.\n",
      "  and should_run_async(code)\n"
     ]
    }
   ],
   "source": [
    "X_train, X_test, y_train, y_test = train_test_split(X, Y, test_size=0.1, random_state=42)"
   ]
  },
  {
   "cell_type": "code",
   "execution_count": 28,
   "metadata": {},
   "outputs": [
    {
     "name": "stdout",
     "output_type": "stream",
     "text": [
      "Training pipeline : nlp_mo_pipeline_lgb ...\n"
     ]
    },
    {
     "name": "stderr",
     "output_type": "stream",
     "text": [
      "E:\\MiniConda\\envs\\nlp_pipeline\\lib\\site-packages\\ipykernel\\ipkernel.py:287: DeprecationWarning: `should_run_async` will not call `transform_cell` automatically in the future. Please pass the result to `transformed_cell` argument and any exception that happen during thetransform in `preprocessing_exc_tuple` in IPython 7.17 and above.\n",
      "  and should_run_async(code)\n"
     ]
    },
    {
     "data": {
      "text/html": [
       "<style>div.sk-top-container {color: black;background-color: white;}div.sk-toggleable {background-color: white;}label.sk-toggleable__label {cursor: pointer;display: block;width: 100%;margin-bottom: 0;padding: 0.2em 0.3em;box-sizing: border-box;text-align: center;}div.sk-toggleable__content {max-height: 0;max-width: 0;overflow: hidden;text-align: left;background-color: #f0f8ff;}div.sk-toggleable__content pre {margin: 0.2em;color: black;border-radius: 0.25em;background-color: #f0f8ff;}input.sk-toggleable__control:checked~div.sk-toggleable__content {max-height: 200px;max-width: 100%;overflow: auto;}div.sk-estimator input.sk-toggleable__control:checked~label.sk-toggleable__label {background-color: #d4ebff;}div.sk-label input.sk-toggleable__control:checked~label.sk-toggleable__label {background-color: #d4ebff;}input.sk-hidden--visually {border: 0;clip: rect(1px 1px 1px 1px);clip: rect(1px, 1px, 1px, 1px);height: 1px;margin: -1px;overflow: hidden;padding: 0;position: absolute;width: 1px;}div.sk-estimator {font-family: monospace;background-color: #f0f8ff;margin: 0.25em 0.25em;border: 1px dotted black;border-radius: 0.25em;box-sizing: border-box;}div.sk-estimator:hover {background-color: #d4ebff;}div.sk-parallel-item::after {content: \"\";width: 100%;border-bottom: 1px solid gray;flex-grow: 1;}div.sk-label:hover label.sk-toggleable__label {background-color: #d4ebff;}div.sk-serial::before {content: \"\";position: absolute;border-left: 1px solid gray;box-sizing: border-box;top: 2em;bottom: 0;left: 50%;}div.sk-serial {display: flex;flex-direction: column;align-items: center;background-color: white;}div.sk-item {z-index: 1;}div.sk-parallel {display: flex;align-items: stretch;justify-content: center;background-color: white;}div.sk-parallel-item {display: flex;flex-direction: column;position: relative;background-color: white;}div.sk-parallel-item:first-child::after {align-self: flex-end;width: 50%;}div.sk-parallel-item:last-child::after {align-self: flex-start;width: 50%;}div.sk-parallel-item:only-child::after {width: 0;}div.sk-dashed-wrapped {border: 1px dashed gray;margin: 0.2em;box-sizing: border-box;padding-bottom: 0.1em;background-color: white;position: relative;}div.sk-label label {font-family: monospace;font-weight: bold;background-color: white;display: inline-block;line-height: 1.2em;}div.sk-label-container {position: relative;z-index: 2;text-align: center;}div.sk-container {display: inline-block;position: relative;}</style><div class=\"sk-top-container\"><div class=\"sk-container\"><div class=\"sk-item sk-dashed-wrapped\"><div class=\"sk-label-container\"><div class=\"sk-label sk-toggleable\"><input class=\"sk-toggleable__control sk-hidden--visually\" id=\"01689583-d62f-4180-863f-164c37e62a17\" type=\"checkbox\" ><label class=\"sk-toggleable__label\" for=\"01689583-d62f-4180-863f-164c37e62a17\">Pipeline</label><div class=\"sk-toggleable__content\"><pre>Pipeline(steps=[('tfidfvect',\n",
       "                 TfidfVectorizer(tokenizer=<function tokenize at 0x000001C853CFA790>)),\n",
       "                ('multiclassifier',\n",
       "                 MultiOutputClassifier(estimator=LGBMClassifier()))])</pre></div></div></div><div class=\"sk-serial\"><div class=\"sk-item\"><div class=\"sk-estimator sk-toggleable\"><input class=\"sk-toggleable__control sk-hidden--visually\" id=\"7fe940b1-d43e-4156-ae05-017731969017\" type=\"checkbox\" ><label class=\"sk-toggleable__label\" for=\"7fe940b1-d43e-4156-ae05-017731969017\">TfidfVectorizer</label><div class=\"sk-toggleable__content\"><pre>TfidfVectorizer(tokenizer=<function tokenize at 0x000001C853CFA790>)</pre></div></div></div><div class=\"sk-item sk-dashed-wrapped\"><div class=\"sk-label-container\"><div class=\"sk-label sk-toggleable\"><input class=\"sk-toggleable__control sk-hidden--visually\" id=\"74209a04-0bd8-413e-a496-5f4cd88dd97f\" type=\"checkbox\" ><label class=\"sk-toggleable__label\" for=\"74209a04-0bd8-413e-a496-5f4cd88dd97f\">multiclassifier: MultiOutputClassifier</label><div class=\"sk-toggleable__content\"><pre>MultiOutputClassifier(estimator=LGBMClassifier())</pre></div></div></div><div class=\"sk-parallel\"><div class=\"sk-parallel-item\"><div class=\"sk-item\"><div class=\"sk-serial\"><div class=\"sk-item\"><div class=\"sk-estimator sk-toggleable\"><input class=\"sk-toggleable__control sk-hidden--visually\" id=\"46bf34dc-b1bc-4f31-b9a0-1cd55fc0d200\" type=\"checkbox\" ><label class=\"sk-toggleable__label\" for=\"46bf34dc-b1bc-4f31-b9a0-1cd55fc0d200\">LGBMClassifier</label><div class=\"sk-toggleable__content\"><pre>LGBMClassifier()</pre></div></div></div></div></div></div></div></div></div></div></div></div>"
      ],
      "text/plain": [
       "Pipeline(steps=[('tfidfvect',\n",
       "                 TfidfVectorizer(tokenizer=<function tokenize at 0x000001C853CFA790>)),\n",
       "                ('multiclassifier',\n",
       "                 MultiOutputClassifier(estimator=LGBMClassifier()))])"
      ]
     },
     "metadata": {},
     "output_type": "display_data"
    },
    {
     "name": "stderr",
     "output_type": "stream",
     "text": [
      "E:\\MiniConda\\envs\\nlp_pipeline\\lib\\site-packages\\sklearn\\metrics\\_classification.py:1464: UndefinedMetricWarning: F-score is ill-defined and being set to 0.0 in labels with no true nor predicted samples. Use `zero_division` parameter to control this behavior.\n",
      "  _warn_prf(\n",
      "E:\\MiniConda\\envs\\nlp_pipeline\\lib\\site-packages\\sklearn\\metrics\\_classification.py:1464: UndefinedMetricWarning: F-score is ill-defined and being set to 0.0 in labels with no true nor predicted samples. Use `zero_division` parameter to control this behavior.\n",
      "  _warn_prf(\n",
      "E:\\MiniConda\\envs\\nlp_pipeline\\lib\\site-packages\\sklearn\\metrics\\_classification.py:1464: UndefinedMetricWarning: F-score is ill-defined and being set to 0.0 in labels with no true nor predicted samples. Use `zero_division` parameter to control this behavior.\n",
      "  _warn_prf(\n",
      "E:\\MiniConda\\envs\\nlp_pipeline\\lib\\site-packages\\sklearn\\metrics\\_classification.py:1464: UndefinedMetricWarning: F-score is ill-defined and being set to 0.0 in labels with no true nor predicted samples. Use `zero_division` parameter to control this behavior.\n",
      "  _warn_prf(\n"
     ]
    },
    {
     "name": "stdout",
     "output_type": "stream",
     "text": [
      "Pipeline : nlp_mo_pipeline_lgb F1 mean score 0.6570754269964685\n"
     ]
    },
    {
     "name": "stderr",
     "output_type": "stream",
     "text": [
      "E:\\MiniConda\\envs\\nlp_pipeline\\lib\\site-packages\\sklearn\\metrics\\_classification.py:1464: UndefinedMetricWarning: F-score is ill-defined and being set to 0.0 in labels with no true nor predicted samples. Use `zero_division` parameter to control this behavior.\n",
      "  _warn_prf(\n"
     ]
    }
   ],
   "source": [
    "# set config to diagram for visualizing the pipelines/composite estimators\n",
    "set_config(display='diagram') #'text'\n",
    "\n",
    "# cross validation for F1 score\n",
    "f1_results = {} \n",
    "\n",
    "for pipename, pipevalue in pipeline_dict.items() :\n",
    "    print (\"Training pipeline : {} ...\".format(pipename))\n",
    "    display(pipevalue)\n",
    "    scores = cross_val_score(pipevalue, X_train, y_train, scoring='f1_weighted', cv=5)\n",
    "    f1_results[pipename] = scores.mean()\n",
    "    print (\"Pipeline : {} F1 mean score {}\".format(pipename, scores.mean())) "
   ]
  },
  {
   "cell_type": "code",
   "execution_count": 30,
   "metadata": {},
   "outputs": [
    {
     "name": "stdout",
     "output_type": "stream",
     "text": [
      "Training X & Y shapes (23593,) , (23593, 36) \n",
      "Test X & Y shapes (2622,) , (2622, 36)\n"
     ]
    },
    {
     "name": "stderr",
     "output_type": "stream",
     "text": [
      "E:\\MiniConda\\envs\\nlp_pipeline\\lib\\site-packages\\ipykernel\\ipkernel.py:287: DeprecationWarning: `should_run_async` will not call `transform_cell` automatically in the future. Please pass the result to `transformed_cell` argument and any exception that happen during thetransform in `preprocessing_exc_tuple` in IPython 7.17 and above.\n",
      "  and should_run_async(code)\n"
     ]
    }
   ],
   "source": [
    "print(\"Training X & Y shapes {} , {} \".format(X_train.shape, y_train.shape))\n",
    "print(\"Test X & Y shapes {} , {}\".format(X_test.shape, y_test.shape))"
   ]
  },
  {
   "cell_type": "code",
   "execution_count": 31,
   "metadata": {},
   "outputs": [
    {
     "name": "stderr",
     "output_type": "stream",
     "text": [
      "E:\\MiniConda\\envs\\nlp_pipeline\\lib\\site-packages\\ipykernel\\ipkernel.py:287: DeprecationWarning: `should_run_async` will not call `transform_cell` automatically in the future. Please pass the result to `transformed_cell` argument and any exception that happen during thetransform in `preprocessing_exc_tuple` in IPython 7.17 and above.\n",
      "  and should_run_async(code)\n"
     ]
    },
    {
     "data": {
      "text/plain": [
       "{'nlp_mo_pipeline_lgb': 0.6570754269964685}"
      ]
     },
     "execution_count": 31,
     "metadata": {},
     "output_type": "execute_result"
    }
   ],
   "source": [
    "f1_results"
   ]
  },
  {
   "cell_type": "code",
   "execution_count": 32,
   "metadata": {},
   "outputs": [
    {
     "name": "stderr",
     "output_type": "stream",
     "text": [
      "E:\\MiniConda\\envs\\nlp_pipeline\\lib\\site-packages\\ipykernel\\ipkernel.py:287: DeprecationWarning: `should_run_async` will not call `transform_cell` automatically in the future. Please pass the result to `transformed_cell` argument and any exception that happen during thetransform in `preprocessing_exc_tuple` in IPython 7.17 and above.\n",
      "  and should_run_async(code)\n"
     ]
    },
    {
     "data": {
      "image/png": "[encoded data removed]",
      "text/plain": [
       "<Figure size 864x360 with 1 Axes>"
      ]
     },
     "metadata": {
      "needs_background": "light"
     },
     "output_type": "display_data"
    }
   ],
   "source": [
    "# Results and Best pipeline\n",
    "\n",
    "best_pipline_name = max(f1_results, key=f1_results.get)\n",
    "\n",
    "ax = pd.DataFrame.from_dict(f1_results, orient='index').plot.barh(figsize=(12,5))\n",
    "ax.set_xlabel(\"CV F1 Mean Scores\")\n",
    "ax.set_ylabel(\"Pipelines\")\n",
    "ax.set_title('Pipeline Training Results - best results '+ best_pipline_name)\n",
    "plt.show()"
   ]
  },
  {
   "cell_type": "code",
   "execution_count": 33,
   "metadata": {},
   "outputs": [
    {
     "name": "stderr",
     "output_type": "stream",
     "text": [
      "E:\\MiniConda\\envs\\nlp_pipeline\\lib\\site-packages\\ipykernel\\ipkernel.py:287: DeprecationWarning: `should_run_async` will not call `transform_cell` automatically in the future. Please pass the result to `transformed_cell` argument and any exception that happen during thetransform in `preprocessing_exc_tuple` in IPython 7.17 and above.\n",
      "  and should_run_async(code)\n"
     ]
    },
    {
     "data": {
      "text/html": [
       "<style>div.sk-top-container {color: black;background-color: white;}div.sk-toggleable {background-color: white;}label.sk-toggleable__label {cursor: pointer;display: block;width: 100%;margin-bottom: 0;padding: 0.2em 0.3em;box-sizing: border-box;text-align: center;}div.sk-toggleable__content {max-height: 0;max-width: 0;overflow: hidden;text-align: left;background-color: #f0f8ff;}div.sk-toggleable__content pre {margin: 0.2em;color: black;border-radius: 0.25em;background-color: #f0f8ff;}input.sk-toggleable__control:checked~div.sk-toggleable__content {max-height: 200px;max-width: 100%;overflow: auto;}div.sk-estimator input.sk-toggleable__control:checked~label.sk-toggleable__label {background-color: #d4ebff;}div.sk-label input.sk-toggleable__control:checked~label.sk-toggleable__label {background-color: #d4ebff;}input.sk-hidden--visually {border: 0;clip: rect(1px 1px 1px 1px);clip: rect(1px, 1px, 1px, 1px);height: 1px;margin: -1px;overflow: hidden;padding: 0;position: absolute;width: 1px;}div.sk-estimator {font-family: monospace;background-color: #f0f8ff;margin: 0.25em 0.25em;border: 1px dotted black;border-radius: 0.25em;box-sizing: border-box;}div.sk-estimator:hover {background-color: #d4ebff;}div.sk-parallel-item::after {content: \"\";width: 100%;border-bottom: 1px solid gray;flex-grow: 1;}div.sk-label:hover label.sk-toggleable__label {background-color: #d4ebff;}div.sk-serial::before {content: \"\";position: absolute;border-left: 1px solid gray;box-sizing: border-box;top: 2em;bottom: 0;left: 50%;}div.sk-serial {display: flex;flex-direction: column;align-items: center;background-color: white;}div.sk-item {z-index: 1;}div.sk-parallel {display: flex;align-items: stretch;justify-content: center;background-color: white;}div.sk-parallel-item {display: flex;flex-direction: column;position: relative;background-color: white;}div.sk-parallel-item:first-child::after {align-self: flex-end;width: 50%;}div.sk-parallel-item:last-child::after {align-self: flex-start;width: 50%;}div.sk-parallel-item:only-child::after {width: 0;}div.sk-dashed-wrapped {border: 1px dashed gray;margin: 0.2em;box-sizing: border-box;padding-bottom: 0.1em;background-color: white;position: relative;}div.sk-label label {font-family: monospace;font-weight: bold;background-color: white;display: inline-block;line-height: 1.2em;}div.sk-label-container {position: relative;z-index: 2;text-align: center;}div.sk-container {display: inline-block;position: relative;}</style><div class=\"sk-top-container\"><div class=\"sk-container\"><div class=\"sk-item sk-dashed-wrapped\"><div class=\"sk-label-container\"><div class=\"sk-label sk-toggleable\"><input class=\"sk-toggleable__control sk-hidden--visually\" id=\"c088f169-065d-448e-976b-cc34648b6750\" type=\"checkbox\" ><label class=\"sk-toggleable__label\" for=\"c088f169-065d-448e-976b-cc34648b6750\">Pipeline</label><div class=\"sk-toggleable__content\"><pre>Pipeline(steps=[('tfidfvect',\n",
       "                 TfidfVectorizer(tokenizer=<function tokenize at 0x000001C853CFA790>)),\n",
       "                ('multiclassifier',\n",
       "                 MultiOutputClassifier(estimator=LGBMClassifier()))])</pre></div></div></div><div class=\"sk-serial\"><div class=\"sk-item\"><div class=\"sk-estimator sk-toggleable\"><input class=\"sk-toggleable__control sk-hidden--visually\" id=\"2698de55-3bbd-426b-9736-50d3887821eb\" type=\"checkbox\" ><label class=\"sk-toggleable__label\" for=\"2698de55-3bbd-426b-9736-50d3887821eb\">TfidfVectorizer</label><div class=\"sk-toggleable__content\"><pre>TfidfVectorizer(tokenizer=<function tokenize at 0x000001C853CFA790>)</pre></div></div></div><div class=\"sk-item sk-dashed-wrapped\"><div class=\"sk-label-container\"><div class=\"sk-label sk-toggleable\"><input class=\"sk-toggleable__control sk-hidden--visually\" id=\"04e456dd-db36-444b-80d9-fc27788aaf9a\" type=\"checkbox\" ><label class=\"sk-toggleable__label\" for=\"04e456dd-db36-444b-80d9-fc27788aaf9a\">multiclassifier: MultiOutputClassifier</label><div class=\"sk-toggleable__content\"><pre>MultiOutputClassifier(estimator=LGBMClassifier())</pre></div></div></div><div class=\"sk-parallel\"><div class=\"sk-parallel-item\"><div class=\"sk-item\"><div class=\"sk-serial\"><div class=\"sk-item\"><div class=\"sk-estimator sk-toggleable\"><input class=\"sk-toggleable__control sk-hidden--visually\" id=\"0a38359c-a03f-4255-8f5d-fc73c90bc0c5\" type=\"checkbox\" ><label class=\"sk-toggleable__label\" for=\"0a38359c-a03f-4255-8f5d-fc73c90bc0c5\">LGBMClassifier</label><div class=\"sk-toggleable__content\"><pre>LGBMClassifier()</pre></div></div></div></div></div></div></div></div></div></div></div></div>"
      ],
      "text/plain": [
       "Pipeline(steps=[('tfidfvect',\n",
       "                 TfidfVectorizer(tokenizer=<function tokenize at 0x000001C853CFA790>)),\n",
       "                ('multiclassifier',\n",
       "                 MultiOutputClassifier(estimator=LGBMClassifier()))])"
      ]
     },
     "execution_count": 33,
     "metadata": {},
     "output_type": "execute_result"
    }
   ],
   "source": [
    "# Train best pipline\n",
    "best_pipline = pipeline_dict[best_pipline_name]\n",
    "best_pipline\n",
    "#best_pipeline.fit(X_train, y_train)"
   ]
  },
  {
   "cell_type": "code",
   "execution_count": 34,
   "metadata": {},
   "outputs": [
    {
     "name": "stderr",
     "output_type": "stream",
     "text": [
      "E:\\MiniConda\\envs\\nlp_pipeline\\lib\\site-packages\\ipykernel\\ipkernel.py:287: DeprecationWarning: `should_run_async` will not call `transform_cell` automatically in the future. Please pass the result to `transformed_cell` argument and any exception that happen during thetransform in `preprocessing_exc_tuple` in IPython 7.17 and above.\n",
      "  and should_run_async(code)\n"
     ]
    },
    {
     "data": {
      "text/plain": [
       "dict_keys(['memory', 'steps', 'verbose', 'tfidfvect', 'multiclassifier', 'tfidfvect__analyzer', 'tfidfvect__binary', 'tfidfvect__decode_error', 'tfidfvect__dtype', 'tfidfvect__encoding', 'tfidfvect__input', 'tfidfvect__lowercase', 'tfidfvect__max_df', 'tfidfvect__max_features', 'tfidfvect__min_df', 'tfidfvect__ngram_range', 'tfidfvect__norm', 'tfidfvect__preprocessor', 'tfidfvect__smooth_idf', 'tfidfvect__stop_words', 'tfidfvect__strip_accents', 'tfidfvect__sublinear_tf', 'tfidfvect__token_pattern', 'tfidfvect__tokenizer', 'tfidfvect__use_idf', 'tfidfvect__vocabulary', 'multiclassifier__estimator__boosting_type', 'multiclassifier__estimator__class_weight', 'multiclassifier__estimator__colsample_bytree', 'multiclassifier__estimator__importance_type', 'multiclassifier__estimator__learning_rate', 'multiclassifier__estimator__max_depth', 'multiclassifier__estimator__min_child_samples', 'multiclassifier__estimator__min_child_weight', 'multiclassifier__estimator__min_split_gain', 'multiclassifier__estimator__n_estimators', 'multiclassifier__estimator__n_jobs', 'multiclassifier__estimator__num_leaves', 'multiclassifier__estimator__objective', 'multiclassifier__estimator__random_state', 'multiclassifier__estimator__reg_alpha', 'multiclassifier__estimator__reg_lambda', 'multiclassifier__estimator__silent', 'multiclassifier__estimator__subsample', 'multiclassifier__estimator__subsample_for_bin', 'multiclassifier__estimator__subsample_freq', 'multiclassifier__estimator', 'multiclassifier__n_jobs'])"
      ]
     },
     "execution_count": 34,
     "metadata": {},
     "output_type": "execute_result"
    }
   ],
   "source": [
    "best_pipline.get_params().keys()"
   ]
  },
  {
   "cell_type": "markdown",
   "metadata": {},
   "source": [
    "### 6. Tune Best Model\n",
    "Use grid search to find better parameters. \n",
    "\n",
    "Since this project focuses on code quality, process, and  pipelines, there is no minimum performance metric needed to pass. However, make sure to fine tune your models for accuracy, precision and recall to make your project stand out - especially for your portfolio!"
   ]
  },
  {
   "cell_type": "code",
   "execution_count": 35,
   "metadata": {},
   "outputs": [
    {
     "name": "stderr",
     "output_type": "stream",
     "text": [
      "E:\\MiniConda\\envs\\nlp_pipeline\\lib\\site-packages\\ipykernel\\ipkernel.py:287: DeprecationWarning: `should_run_async` will not call `transform_cell` automatically in the future. Please pass the result to `transformed_cell` argument and any exception that happen during thetransform in `preprocessing_exc_tuple` in IPython 7.17 and above.\n",
      "  and should_run_async(code)\n"
     ]
    },
    {
     "data": {
      "text/plain": [
       "id\n",
       "4755     Where can I find the Food Pass please? Send me...\n",
       "3479     I am in Ile la Vache. We have food problems be...\n",
       "28619    - Additional accommodation for visiting staff ...\n",
       "12552    I work with a group of NYU students and we wan...\n",
       "12550    Lights are flickering on and off .. Sandy is s...\n",
       "Name: message, dtype: object"
      ]
     },
     "execution_count": 35,
     "metadata": {},
     "output_type": "execute_result"
    }
   ],
   "source": [
    "X_train.head()"
   ]
  },
  {
   "cell_type": "code",
   "execution_count": 36,
   "metadata": {},
   "outputs": [
    {
     "name": "stderr",
     "output_type": "stream",
     "text": [
      "E:\\MiniConda\\envs\\nlp_pipeline\\lib\\site-packages\\ipykernel\\ipkernel.py:287: DeprecationWarning: `should_run_async` will not call `transform_cell` automatically in the future. Please pass the result to `transformed_cell` argument and any exception that happen during thetransform in `preprocessing_exc_tuple` in IPython 7.17 and above.\n",
      "  and should_run_async(code)\n"
     ]
    },
    {
     "data": {
      "text/html": [
       "<div>\n",
       "<style scoped>\n",
       "    .dataframe tbody tr th:only-of-type {\n",
       "        vertical-align: middle;\n",
       "    }\n",
       "\n",
       "    .dataframe tbody tr th {\n",
       "        vertical-align: top;\n",
       "    }\n",
       "\n",
       "    .dataframe thead th {\n",
       "        text-align: right;\n",
       "    }\n",
       "</style>\n",
       "<table border=\"1\" class=\"dataframe\">\n",
       "  <thead>\n",
       "    <tr style=\"text-align: right;\">\n",
       "      <th></th>\n",
       "      <th>related</th>\n",
       "      <th>request</th>\n",
       "      <th>offer</th>\n",
       "      <th>aid_related</th>\n",
       "      <th>medical_help</th>\n",
       "      <th>medical_products</th>\n",
       "      <th>search_and_rescue</th>\n",
       "      <th>security</th>\n",
       "      <th>military</th>\n",
       "      <th>child_alone</th>\n",
       "      <th>...</th>\n",
       "      <th>aid_centers</th>\n",
       "      <th>other_infrastructure</th>\n",
       "      <th>weather_related</th>\n",
       "      <th>floods</th>\n",
       "      <th>storm</th>\n",
       "      <th>fire</th>\n",
       "      <th>earthquake</th>\n",
       "      <th>cold</th>\n",
       "      <th>other_weather</th>\n",
       "      <th>direct_report</th>\n",
       "    </tr>\n",
       "    <tr>\n",
       "      <th>id</th>\n",
       "      <th></th>\n",
       "      <th></th>\n",
       "      <th></th>\n",
       "      <th></th>\n",
       "      <th></th>\n",
       "      <th></th>\n",
       "      <th></th>\n",
       "      <th></th>\n",
       "      <th></th>\n",
       "      <th></th>\n",
       "      <th></th>\n",
       "      <th></th>\n",
       "      <th></th>\n",
       "      <th></th>\n",
       "      <th></th>\n",
       "      <th></th>\n",
       "      <th></th>\n",
       "      <th></th>\n",
       "      <th></th>\n",
       "      <th></th>\n",
       "      <th></th>\n",
       "    </tr>\n",
       "  </thead>\n",
       "  <tbody>\n",
       "    <tr>\n",
       "      <th>4755</th>\n",
       "      <td>1</td>\n",
       "      <td>1</td>\n",
       "      <td>0</td>\n",
       "      <td>1</td>\n",
       "      <td>0</td>\n",
       "      <td>0</td>\n",
       "      <td>0</td>\n",
       "      <td>0</td>\n",
       "      <td>0</td>\n",
       "      <td>0</td>\n",
       "      <td>...</td>\n",
       "      <td>0</td>\n",
       "      <td>0</td>\n",
       "      <td>0</td>\n",
       "      <td>0</td>\n",
       "      <td>0</td>\n",
       "      <td>0</td>\n",
       "      <td>0</td>\n",
       "      <td>0</td>\n",
       "      <td>0</td>\n",
       "      <td>0</td>\n",
       "    </tr>\n",
       "    <tr>\n",
       "      <th>3479</th>\n",
       "      <td>1</td>\n",
       "      <td>1</td>\n",
       "      <td>0</td>\n",
       "      <td>1</td>\n",
       "      <td>0</td>\n",
       "      <td>0</td>\n",
       "      <td>0</td>\n",
       "      <td>0</td>\n",
       "      <td>0</td>\n",
       "      <td>0</td>\n",
       "      <td>...</td>\n",
       "      <td>0</td>\n",
       "      <td>0</td>\n",
       "      <td>0</td>\n",
       "      <td>0</td>\n",
       "      <td>0</td>\n",
       "      <td>0</td>\n",
       "      <td>0</td>\n",
       "      <td>0</td>\n",
       "      <td>0</td>\n",
       "      <td>1</td>\n",
       "    </tr>\n",
       "    <tr>\n",
       "      <th>28619</th>\n",
       "      <td>1</td>\n",
       "      <td>0</td>\n",
       "      <td>0</td>\n",
       "      <td>0</td>\n",
       "      <td>0</td>\n",
       "      <td>0</td>\n",
       "      <td>0</td>\n",
       "      <td>0</td>\n",
       "      <td>0</td>\n",
       "      <td>0</td>\n",
       "      <td>...</td>\n",
       "      <td>0</td>\n",
       "      <td>0</td>\n",
       "      <td>0</td>\n",
       "      <td>0</td>\n",
       "      <td>0</td>\n",
       "      <td>0</td>\n",
       "      <td>0</td>\n",
       "      <td>0</td>\n",
       "      <td>0</td>\n",
       "      <td>0</td>\n",
       "    </tr>\n",
       "    <tr>\n",
       "      <th>12552</th>\n",
       "      <td>1</td>\n",
       "      <td>0</td>\n",
       "      <td>0</td>\n",
       "      <td>1</td>\n",
       "      <td>0</td>\n",
       "      <td>0</td>\n",
       "      <td>0</td>\n",
       "      <td>0</td>\n",
       "      <td>0</td>\n",
       "      <td>0</td>\n",
       "      <td>...</td>\n",
       "      <td>0</td>\n",
       "      <td>0</td>\n",
       "      <td>0</td>\n",
       "      <td>0</td>\n",
       "      <td>0</td>\n",
       "      <td>0</td>\n",
       "      <td>0</td>\n",
       "      <td>0</td>\n",
       "      <td>0</td>\n",
       "      <td>1</td>\n",
       "    </tr>\n",
       "    <tr>\n",
       "      <th>12550</th>\n",
       "      <td>1</td>\n",
       "      <td>0</td>\n",
       "      <td>0</td>\n",
       "      <td>0</td>\n",
       "      <td>0</td>\n",
       "      <td>0</td>\n",
       "      <td>0</td>\n",
       "      <td>0</td>\n",
       "      <td>0</td>\n",
       "      <td>0</td>\n",
       "      <td>...</td>\n",
       "      <td>0</td>\n",
       "      <td>0</td>\n",
       "      <td>1</td>\n",
       "      <td>0</td>\n",
       "      <td>0</td>\n",
       "      <td>0</td>\n",
       "      <td>0</td>\n",
       "      <td>0</td>\n",
       "      <td>1</td>\n",
       "      <td>1</td>\n",
       "    </tr>\n",
       "  </tbody>\n",
       "</table>\n",
       "<p>5 rows × 36 columns</p>\n",
       "</div>"
      ],
      "text/plain": [
       "       related  request  offer  aid_related  medical_help  medical_products  \\\n",
       "id                                                                            \n",
       "4755         1        1      0            1             0                 0   \n",
       "3479         1        1      0            1             0                 0   \n",
       "28619        1        0      0            0             0                 0   \n",
       "12552        1        0      0            1             0                 0   \n",
       "12550        1        0      0            0             0                 0   \n",
       "\n",
       "       search_and_rescue  security  military  child_alone  ...  aid_centers  \\\n",
       "id                                                         ...                \n",
       "4755                   0         0         0            0  ...            0   \n",
       "3479                   0         0         0            0  ...            0   \n",
       "28619                  0         0         0            0  ...            0   \n",
       "12552                  0         0         0            0  ...            0   \n",
       "12550                  0         0         0            0  ...            0   \n",
       "\n",
       "       other_infrastructure  weather_related  floods  storm  fire  earthquake  \\\n",
       "id                                                                              \n",
       "4755                      0                0       0      0     0           0   \n",
       "3479                      0                0       0      0     0           0   \n",
       "28619                     0                0       0      0     0           0   \n",
       "12552                     0                0       0      0     0           0   \n",
       "12550                     0                1       0      0     0           0   \n",
       "\n",
       "       cold  other_weather  direct_report  \n",
       "id                                         \n",
       "4755      0              0              0  \n",
       "3479      0              0              1  \n",
       "28619     0              0              0  \n",
       "12552     0              0              1  \n",
       "12550     0              1              1  \n",
       "\n",
       "[5 rows x 36 columns]"
      ]
     },
     "execution_count": 36,
     "metadata": {},
     "output_type": "execute_result"
    }
   ],
   "source": [
    "y_train.head()"
   ]
  },
  {
   "cell_type": "code",
   "execution_count": 37,
   "metadata": {},
   "outputs": [
    {
     "name": "stderr",
     "output_type": "stream",
     "text": [
      "E:\\MiniConda\\envs\\nlp_pipeline\\lib\\site-packages\\ipykernel\\ipkernel.py:287: DeprecationWarning: `should_run_async` will not call `transform_cell` automatically in the future. Please pass the result to `transformed_cell` argument and any exception that happen during thetransform in `preprocessing_exc_tuple` in IPython 7.17 and above.\n",
      "  and should_run_async(code)\n"
     ]
    },
    {
     "name": "stdout",
     "output_type": "stream",
     "text": [
      "Best Score: 0.6640108124694335\n",
      "Best Hyperparameters: {'tfidfvect__ngram_range': (1, 2), 'tfidfvect__max_features': None, 'tfidfvect__max_df': 0.75}\n"
     ]
    }
   ],
   "source": [
    "myscoring = make_scorer(f1_score,average='weighted')\n",
    "\n",
    "parameters = {\n",
    "     'tfidfvect__ngram_range': ((1, 1), (1, 2)),\n",
    "     'tfidfvect__max_df': (0.5, 0.75, 1.0),\n",
    "     'tfidfvect__max_features': (None, 100, 500, 2000)\n",
    "#     'classifierchain__order' : 'random',\n",
    "#     'classifierchain__base__estimator__learning_rate': [0.01, 0.1 , 0.5, 0,8],\n",
    "#     'classifierchain__base__estimator__max_depth': [5, 10, 20],\n",
    "# #    'multiclassifier__num_leaves': 50,\n",
    "# #      'clf__min_samples_leaf': [1, 2, 4],\n",
    "# #      'clf__min_samples_split': [2, 5, 10],\n",
    "#     'classifierchain__baser__estimator__n_estimators': [100, 200, 400, 800 , 1000] \n",
    "    }\n",
    "\n",
    "# create grid search object\n",
    "search = RandomizedSearchCV(best_pipline, parameters, scoring=myscoring, n_jobs=-1)\n",
    "\n",
    "result = search.fit(X_train, y_train)\n",
    "\n",
    "# summarize result\n",
    "print('Best Score: %s' % result.best_score_)\n",
    "print('Best Hyperparameters: %s' % result.best_params_)"
   ]
  },
  {
   "cell_type": "code",
   "execution_count": 38,
   "metadata": {},
   "outputs": [
    {
     "name": "stderr",
     "output_type": "stream",
     "text": [
      "E:\\MiniConda\\envs\\nlp_pipeline\\lib\\site-packages\\ipykernel\\ipkernel.py:287: DeprecationWarning: `should_run_async` will not call `transform_cell` automatically in the future. Please pass the result to `transformed_cell` argument and any exception that happen during thetransform in `preprocessing_exc_tuple` in IPython 7.17 and above.\n",
      "  and should_run_async(code)\n"
     ]
    },
    {
     "data": {
      "text/plain": [
       "\"param search results -> 0.539885 (0.003838) with: {'tfidfvect__ngram_range': (1, 1), 'tfidfvect__max_features': 100, 'tfidfvect__max_df': 0.75}\""
      ]
     },
     "metadata": {},
     "output_type": "display_data"
    },
    {
     "data": {
      "text/plain": [
       "\"param search results -> 0.613370 (0.003537) with: {'tfidfvect__ngram_range': (1, 2), 'tfidfvect__max_features': 500, 'tfidfvect__max_df': 1.0}\""
      ]
     },
     "metadata": {},
     "output_type": "display_data"
    },
    {
     "data": {
      "text/plain": [
       "\"param search results -> 0.657075 (0.002184) with: {'tfidfvect__ngram_range': (1, 1), 'tfidfvect__max_features': None, 'tfidfvect__max_df': 1.0}\""
      ]
     },
     "metadata": {},
     "output_type": "display_data"
    },
    {
     "data": {
      "text/plain": [
       "\"param search results -> 0.649989 (0.002659) with: {'tfidfvect__ngram_range': (1, 2), 'tfidfvect__max_features': 2000, 'tfidfvect__max_df': 0.75}\""
      ]
     },
     "metadata": {},
     "output_type": "display_data"
    },
    {
     "data": {
      "text/plain": [
       "\"param search results -> 0.657412 (0.002799) with: {'tfidfvect__ngram_range': (1, 1), 'tfidfvect__max_features': None, 'tfidfvect__max_df': 0.75}\""
      ]
     },
     "metadata": {},
     "output_type": "display_data"
    },
    {
     "data": {
      "text/plain": [
       "\"param search results -> 0.664011 (0.001824) with: {'tfidfvect__ngram_range': (1, 2), 'tfidfvect__max_features': None, 'tfidfvect__max_df': 0.75}\""
      ]
     },
     "metadata": {},
     "output_type": "display_data"
    },
    {
     "data": {
      "text/plain": [
       "\"param search results -> 0.614743 (0.004046) with: {'tfidfvect__ngram_range': (1, 2), 'tfidfvect__max_features': 500, 'tfidfvect__max_df': 0.5}\""
      ]
     },
     "metadata": {},
     "output_type": "display_data"
    },
    {
     "data": {
      "text/plain": [
       "\"param search results -> 0.631827 (0.003307) with: {'tfidfvect__ngram_range': (1, 1), 'tfidfvect__max_features': 500, 'tfidfvect__max_df': 0.75}\""
      ]
     },
     "metadata": {},
     "output_type": "display_data"
    },
    {
     "data": {
      "text/plain": [
       "\"param search results -> 0.516429 (0.007762) with: {'tfidfvect__ngram_range': (1, 2), 'tfidfvect__max_features': 100, 'tfidfvect__max_df': 0.5}\""
      ]
     },
     "metadata": {},
     "output_type": "display_data"
    },
    {
     "data": {
      "text/plain": [
       "\"param search results -> 0.657769 (0.003779) with: {'tfidfvect__ngram_range': (1, 1), 'tfidfvect__max_features': None, 'tfidfvect__max_df': 0.5}\""
      ]
     },
     "metadata": {},
     "output_type": "display_data"
    }
   ],
   "source": [
    "#Print grid search CV results\n",
    "means = search.cv_results_['mean_test_score']\n",
    "stds = search.cv_results_['std_test_score']\n",
    "params = search.cv_results_['params']\n",
    "for mean, stdev, param in zip(means, stds, params):\n",
    "    display(\"param search results -> %f (%f) with: %r\" % (mean, stdev, param))"
   ]
  },
  {
   "cell_type": "code",
   "execution_count": 40,
   "metadata": {},
   "outputs": [
    {
     "name": "stderr",
     "output_type": "stream",
     "text": [
      "E:\\MiniConda\\envs\\nlp_pipeline\\lib\\site-packages\\ipykernel\\ipkernel.py:287: DeprecationWarning: `should_run_async` will not call `transform_cell` automatically in the future. Please pass the result to `transformed_cell` argument and any exception that happen during thetransform in `preprocessing_exc_tuple` in IPython 7.17 and above.\n",
      "  and should_run_async(code)\n"
     ]
    },
    {
     "data": {
      "text/plain": [
       "Pipeline(steps=[('tfidfvect',\n",
       "                 TfidfVectorizer(max_df=0.75, ngram_range=(1, 2),\n",
       "                                 tokenizer=<function tokenize at 0x000001C853CFA790>)),\n",
       "                ('multiclassifier',\n",
       "                 MultiOutputClassifier(estimator=LGBMClassifier()))])"
      ]
     },
     "execution_count": 40,
     "metadata": {},
     "output_type": "execute_result"
    }
   ],
   "source": [
    "# Best Model with tuned parameters\n",
    "set_config(display='text')\n",
    "\n",
    "best_model_tuned = search.best_estimator_\n",
    "best_model_tuned"
   ]
  },
  {
   "cell_type": "markdown",
   "metadata": {},
   "source": [
    "### 7. Test your model\n",
    "Report the f1 score, precision and recall for each output category of the dataset. You can do this by iterating through the columns and calling sklearn's `classification_report` on each.\n",
    "\n",
    "Show the accuracy, precision, and recall of the tuned model."
   ]
  },
  {
   "cell_type": "code",
   "execution_count": 41,
   "metadata": {},
   "outputs": [
    {
     "name": "stderr",
     "output_type": "stream",
     "text": [
      "E:\\MiniConda\\envs\\nlp_pipeline\\lib\\site-packages\\ipykernel\\ipkernel.py:287: DeprecationWarning: `should_run_async` will not call `transform_cell` automatically in the future. Please pass the result to `transformed_cell` argument and any exception that happen during thetransform in `preprocessing_exc_tuple` in IPython 7.17 and above.\n",
      "  and should_run_async(code)\n"
     ]
    }
   ],
   "source": [
    "# Confusion Matrix Plot Params\n",
    "# np.set_printoptions(precision=3)\n",
    "# fig, (ax1, ax2) = plt.subplots(nrows=1, ncols=2, figsize=(20, 8))\n",
    "# plt.rcParams.update({'font.size': 16})\n",
    "\n",
    "# predictions = best_model_tuned.predict(X_test)\n",
    "# cm = confusion_matrix(y_test, predictions)\n",
    "\n",
    "# # normalized confusion matrix\n",
    "# cm_normalized = cm.astype('float') / cm.sum(axis=1)[:, np.newaxis]\n",
    "\n",
    "\n",
    "# #Display Confusion matrices\n",
    "# disp = ConfusionMatrixDisplay(confusion_matrix=cm, display_labels=best_model_tuned.classes_)\n",
    "# ax1.set_title('Confusion Matrix')\n",
    "# disp.plot(cmap=plt.cm.Blues, ax=ax1)\n",
    "\n",
    "# disp_normalized = ConfusionMatrixDisplay(confusion_matrix=cm_normalized, display_labels=best_model_tuned.classes_)\n",
    "# ax2.set_title('Normalized Confusion Matrix')\n",
    "# disp_normalized.plot(cmap=plt.cm.Blues, ax=ax2)\n",
    "\n",
    "# plt.show()"
   ]
  },
  {
   "cell_type": "code",
   "execution_count": 42,
   "metadata": {},
   "outputs": [
    {
     "name": "stderr",
     "output_type": "stream",
     "text": [
      "E:\\MiniConda\\envs\\nlp_pipeline\\lib\\site-packages\\ipykernel\\ipkernel.py:287: DeprecationWarning: `should_run_async` will not call `transform_cell` automatically in the future. Please pass the result to `transformed_cell` argument and any exception that happen during thetransform in `preprocessing_exc_tuple` in IPython 7.17 and above.\n",
      "  and should_run_async(code)\n"
     ]
    },
    {
     "name": "stdout",
     "output_type": "stream",
     "text": [
      "                        precision    recall  f1-score   support\n",
      "\n",
      "               related       0.86      0.92      0.89      2006\n",
      "               request       0.79      0.62      0.70       455\n",
      "                 offer       0.00      0.00      0.00        14\n",
      "           aid_related       0.76      0.70      0.73      1089\n",
      "          medical_help       0.56      0.30      0.39       219\n",
      "      medical_products       0.67      0.32      0.43       139\n",
      "     search_and_rescue       0.62      0.17      0.26        60\n",
      "              security       0.11      0.02      0.04        41\n",
      "              military       0.52      0.35      0.42        80\n",
      "           child_alone       0.00      0.00      0.00         0\n",
      "                 water       0.73      0.68      0.71       167\n",
      "                  food       0.84      0.79      0.82       314\n",
      "               shelter       0.76      0.63      0.69       240\n",
      "              clothing       0.73      0.56      0.63        34\n",
      "                 money       0.52      0.28      0.37        60\n",
      "        missing_people       0.88      0.27      0.41        26\n",
      "              refugees       0.63      0.29      0.40        82\n",
      "                 death       0.78      0.60      0.68       124\n",
      "             other_aid       0.55      0.18      0.27       343\n",
      "infrastructure_related       0.39      0.07      0.12       171\n",
      "             transport       0.65      0.25      0.36       113\n",
      "             buildings       0.79      0.43      0.55       141\n",
      "           electricity       0.59      0.24      0.34        55\n",
      "                 tools       0.50      0.07      0.12        15\n",
      "             hospitals       0.25      0.07      0.11        29\n",
      "                 shops       0.00      0.00      0.00        13\n",
      "           aid_centers       0.00      0.00      0.00        38\n",
      "  other_infrastructure       0.23      0.05      0.08       110\n",
      "       weather_related       0.83      0.72      0.77       720\n",
      "                floods       0.89      0.58      0.70       217\n",
      "                 storm       0.74      0.65      0.69       255\n",
      "                  fire       0.62      0.23      0.33        22\n",
      "            earthquake       0.88      0.81      0.84       233\n",
      "                  cold       0.67      0.41      0.51        49\n",
      "         other_weather       0.54      0.20      0.29       134\n",
      "         direct_report       0.74      0.53      0.62       520\n",
      "\n",
      "             micro avg       0.79      0.62      0.70      8328\n",
      "             macro avg       0.57      0.36      0.42      8328\n",
      "          weighted avg       0.75      0.62      0.67      8328\n",
      "           samples avg       0.61      0.52      0.52      8328\n",
      "\n"
     ]
    },
    {
     "name": "stderr",
     "output_type": "stream",
     "text": [
      "E:\\MiniConda\\envs\\nlp_pipeline\\lib\\site-packages\\sklearn\\metrics\\_classification.py:1221: UndefinedMetricWarning: Precision and F-score are ill-defined and being set to 0.0 in labels with no predicted samples. Use `zero_division` parameter to control this behavior.\n",
      "  _warn_prf(average, modifier, msg_start, len(result))\n",
      "E:\\MiniConda\\envs\\nlp_pipeline\\lib\\site-packages\\sklearn\\metrics\\_classification.py:1221: UndefinedMetricWarning: Recall and F-score are ill-defined and being set to 0.0 in labels with no true samples. Use `zero_division` parameter to control this behavior.\n",
      "  _warn_prf(average, modifier, msg_start, len(result))\n",
      "E:\\MiniConda\\envs\\nlp_pipeline\\lib\\site-packages\\sklearn\\metrics\\_classification.py:1221: UndefinedMetricWarning: Precision and F-score are ill-defined and being set to 0.0 in labels with no predicted samples. Use `zero_division` parameter to control this behavior.\n",
      "  _warn_prf(average, modifier, msg_start, len(result))\n",
      "E:\\MiniConda\\envs\\nlp_pipeline\\lib\\site-packages\\sklearn\\metrics\\_classification.py:1221: UndefinedMetricWarning: Recall and F-score are ill-defined and being set to 0.0 in labels with no true samples. Use `zero_division` parameter to control this behavior.\n",
      "  _warn_prf(average, modifier, msg_start, len(result))\n",
      "E:\\MiniConda\\envs\\nlp_pipeline\\lib\\site-packages\\sklearn\\metrics\\_classification.py:1221: UndefinedMetricWarning: Precision and F-score are ill-defined and being set to 0.0 in labels with no predicted samples. Use `zero_division` parameter to control this behavior.\n",
      "  _warn_prf(average, modifier, msg_start, len(result))\n",
      "E:\\MiniConda\\envs\\nlp_pipeline\\lib\\site-packages\\sklearn\\metrics\\_classification.py:1221: UndefinedMetricWarning: Recall and F-score are ill-defined and being set to 0.0 in labels with no true samples. Use `zero_division` parameter to control this behavior.\n",
      "  _warn_prf(average, modifier, msg_start, len(result))\n",
      "E:\\MiniConda\\envs\\nlp_pipeline\\lib\\site-packages\\sklearn\\metrics\\_classification.py:1221: UndefinedMetricWarning: Precision and F-score are ill-defined and being set to 0.0 in samples with no predicted labels. Use `zero_division` parameter to control this behavior.\n",
      "  _warn_prf(average, modifier, msg_start, len(result))\n",
      "E:\\MiniConda\\envs\\nlp_pipeline\\lib\\site-packages\\sklearn\\metrics\\_classification.py:1221: UndefinedMetricWarning: Recall and F-score are ill-defined and being set to 0.0 in samples with no true labels. Use `zero_division` parameter to control this behavior.\n",
      "  _warn_prf(average, modifier, msg_start, len(result))\n"
     ]
    }
   ],
   "source": [
    "# Print Classification Report\n",
    "predictions = best_model_tuned.predict(X_test)\n",
    "print(classification_report(y_test, predictions, target_names= y_test.columns.to_list()))"
   ]
  },
  {
   "cell_type": "markdown",
   "metadata": {},
   "source": [
    "### 8. Model Explainability\n",
    "\n",
    "Check feature importance and use Lime to understand a bit better how the best model classifies the input text "
   ]
  },
  {
   "cell_type": "code",
   "execution_count": 43,
   "metadata": {},
   "outputs": [
    {
     "name": "stderr",
     "output_type": "stream",
     "text": [
      "E:\\MiniConda\\envs\\nlp_pipeline\\lib\\site-packages\\ipykernel\\ipkernel.py:287: DeprecationWarning: `should_run_async` will not call `transform_cell` automatically in the future. Please pass the result to `transformed_cell` argument and any exception that happen during thetransform in `preprocessing_exc_tuple` in IPython 7.17 and above.\n",
      "  and should_run_async(code)\n"
     ]
    }
   ],
   "source": [
    "# # Plot Xtrain labels the transformation part of the pipeline after having applied LSA dimension reduction\n",
    "# # https://scikit-learn.org/stable/modules/generated/sklearn.decomposition.TruncatedSVD.html\n",
    "# # Reference https://github.com/hundredblocks/concrete_NLP_tutorial\n",
    "\n",
    "# def plot_LSA(test_data, test_labels):\n",
    "#         lsa = TruncatedSVD(n_components=2)\n",
    "#         lsa.fit(test_data)\n",
    "#         lsa_scores = lsa.transform(test_data)\n",
    "#         color_mapper = {label:idx for idx,label in enumerate(set(test_labels))}\n",
    "#         color_column = [color_mapper[label] for label in test_labels]\n",
    "#         colors = ['orange','blue','green']\n",
    "#         plt.scatter(lsa_scores[:,0], lsa_scores[:,1], s=8, alpha=.8, c=test_labels, cmap=matplotlib.colors.ListedColormap(colors))\n",
    "#         orange_patch = mpatches.Patch(color='orange', label=best_model_tuned.classes_[0])\n",
    "#         blue_patch = mpatches.Patch(color='blue', label=best_model_tuned.classes_[1])\n",
    "#         green_patch = mpatches.Patch(color='green', label=best_model_tuned.classes_[2])\n",
    "#         plt.legend(handles=[orange_patch, blue_patch, green_patch], prop={'size': 20})\n",
    "          \n",
    "# X_train_transform = best_model_tuned[:-1].fit_transform(X_train)\n",
    "\n",
    "# fig = plt.figure(figsize=(15, 15))          \n",
    "# plot_LSA(X_train_transform, le.fit_transform(y_train))\n",
    "# plt.show()"
   ]
  },
  {
   "cell_type": "markdown",
   "metadata": {},
   "source": [
    "We can observe that the news genre is fairly well concentrated while  the social genre is much more diffused and 'mixed' with the direct genre"
   ]
  },
  {
   "cell_type": "code",
   "execution_count": 62,
   "metadata": {},
   "outputs": [
    {
     "name": "stderr",
     "output_type": "stream",
     "text": [
      "E:\\MiniConda\\envs\\nlp_pipeline\\lib\\site-packages\\ipykernel\\ipkernel.py:287: DeprecationWarning: `should_run_async` will not call `transform_cell` automatically in the future. Please pass the result to `transformed_cell` argument and any exception that happen during thetransform in `preprocessing_exc_tuple` in IPython 7.17 and above.\n",
      "  and should_run_async(code)\n"
     ]
    }
   ],
   "source": [
    "# set-up Lime\n",
    "limeexplainer = LimeTextExplainer(class_names = y_test.columns.to_list())"
   ]
  },
  {
   "cell_type": "code",
   "execution_count": 64,
   "metadata": {},
   "outputs": [
    {
     "name": "stderr",
     "output_type": "stream",
     "text": [
      "E:\\MiniConda\\envs\\nlp_pipeline\\lib\\site-packages\\ipykernel\\ipkernel.py:287: DeprecationWarning: `should_run_async` will not call `transform_cell` automatically in the future. Please pass the result to `transformed_cell` argument and any exception that happen during thetransform in `preprocessing_exc_tuple` in IPython 7.17 and above.\n",
      "  and should_run_async(code)\n"
     ]
    },
    {
     "name": "stdout",
     "output_type": "stream",
     "text": [
      "Message : 09/03/2013 04:09 GMT by Shingo ITO TOKYO, September 3, 2013 (AFP) - The Japanese government on Tuesday unveiled a $470 million plan to stem radioactive water leaks at Fukushima, including freezing the ground underneath the stricken nuclear plant, as it pledged to lead from the front. -> classified as [[1 0 0 1 0 0 0 0 0 0 0 0 0 0 0 0 0 0 0 0 0 0 0 0 0 0 0 0 0 0 0 0 0 0 0 0]] with class pobas [[0.19226868 0.80773132]][[0.98056964 0.01943036]][[9.99820831e-01 1.79168556e-04]][[0.46309981 0.53690019]][[0.95652078 0.04347922]][[0.82053085 0.17946915]][[0.99407173 0.00592827]][[0.99763177 0.00236823]][[0.99509256 0.00490744]][[1.e+00 1.e-15]][[0.91170966 0.08829034]][[0.99537176 0.00462824]][[0.97224765 0.02775235]][[0.99765429 0.00234571]][[0.97269567 0.02730433]][[9.99653453e-01 3.46547441e-04]][[0.99476648 0.00523352]][[0.98754409 0.01245591]][[0.88074534 0.11925466]][[0.85890764 0.14109236]][[0.98614541 0.01385459]][[0.98417126 0.01582874]][[0.99288047 0.00711953]][[9.99929656e-01 7.03438965e-05]][[9.99311945e-01 6.88055308e-04]][[9.99634247e-01 3.65753136e-04]][[9.99683157e-01 3.16843209e-04]][[0.78318199 0.21681801]][[0.79390947 0.20609053]][[0.89527486 0.10472514]][[0.97746424 0.02253576]][[9.99767174e-01 2.32825800e-04]][[0.95836635 0.04163365]][[0.89937267 0.10062733]][[0.95566437 0.04433563]][[0.98158724 0.01841276]]\n"
     ]
    }
   ],
   "source": [
    "# pick a random Message and check the predictions\n",
    "a_message =  X_test.iloc[2]\n",
    "class_probas = best_model_tuned.predict_proba([a_message])\n",
    "class_pred = best_model_tuned.predict([a_message])\n",
    "print (\"Message : {} -> classified as {} with class pobas {}\".format(a_message,class_pred,''.join(map(str, class_probas))))                                                                     "
   ]
  },
  {
   "cell_type": "code",
   "execution_count": 73,
   "metadata": {},
   "outputs": [
    {
     "name": "stderr",
     "output_type": "stream",
     "text": [
      "E:\\MiniConda\\envs\\nlp_pipeline\\lib\\site-packages\\ipykernel\\ipkernel.py:287: DeprecationWarning: `should_run_async` will not call `transform_cell` automatically in the future. Please pass the result to `transformed_cell` argument and any exception that happen during thetransform in `preprocessing_exc_tuple` in IPython 7.17 and above.\n",
      "  and should_run_async(code)\n"
     ]
    }
   ],
   "source": [
    "def get_predict_fn(idx):\n",
    "  def predict_fn(x):\n",
    "    return best_model_tuned.predict_proba(x)[:, idx]\n",
    "  return predict_fn\n",
    "\n",
    "# And hten you can call explain_instance repeatedly. \n",
    "# For example, if you want to explain the first output you would use fn = get_predict_fn(0) as \n",
    "# input to explain_instance instaed of multioutputregressor.predict"
   ]
  },
  {
   "cell_type": "code",
   "execution_count": 74,
   "metadata": {},
   "outputs": [
    {
     "name": "stderr",
     "output_type": "stream",
     "text": [
      "E:\\MiniConda\\envs\\nlp_pipeline\\lib\\site-packages\\ipykernel\\ipkernel.py:287: DeprecationWarning: `should_run_async` will not call `transform_cell` automatically in the future. Please pass the result to `transformed_cell` argument and any exception that happen during thetransform in `preprocessing_exc_tuple` in IPython 7.17 and above.\n",
      "  and should_run_async(code)\n"
     ]
    },
    {
     "data": {
      "text/plain": [
       "<function __main__.get_predict_fn.<locals>.predict_fn(x)>"
      ]
     },
     "execution_count": 74,
     "metadata": {},
     "output_type": "execute_result"
    }
   ],
   "source": [
    "get_predict_fn(0)"
   ]
  },
  {
   "cell_type": "code",
   "execution_count": 67,
   "metadata": {},
   "outputs": [
    {
     "name": "stderr",
     "output_type": "stream",
     "text": [
      "E:\\MiniConda\\envs\\nlp_pipeline\\lib\\site-packages\\ipykernel\\ipkernel.py:287: DeprecationWarning: `should_run_async` will not call `transform_cell` automatically in the future. Please pass the result to `transformed_cell` argument and any exception that happen during thetransform in `preprocessing_exc_tuple` in IPython 7.17 and above.\n",
      "  and should_run_async(code)\n"
     ]
    },
    {
     "ename": "ValueError",
     "evalue": "Expected 2D array, got 1D array instead:\narray=['09/03/2013 04:09 GMT by Shingo ITO TOKYO, September 3, 2013 (AFP) - The Japanese government on Tuesday unveiled a $470 million plan to stem radioactive water leaks at Fukushima, including freezing the ground underneath the stricken nuclear plant, as it pledged to lead from the front.'\n '/03/2013 :   Shingo  ,  , 2013 (AFP) -        $470   to stem  water  at ,         ,    to    .'\n '09/03/2013 04:09 GMT by Shingo  , September , 2013 (AFP) - The  government on Tuesday unveiled a $470 million plan to stem radioactive water leaks at , including freezing the ground  the stricken nuclear plant, as   to  from the .'\n ...\n '09/03/2013 :09 GMT by  ITO TOKYO, September 3, 2013 (AFP) - The Japanese government on Tuesday unveiled  $470 million  to stem  water leaks  Fukushima,  freezing the  underneath the stricken nuclear plant,   pledged to lead from the front.'\n '/03/ : GMT by Shingo  ,  ,  (AFP) -   government on Tuesday unveiled a $470 million plan     leaks  Fukushima,    ground    nuclear plant,  it pledged  lead from  front.'\n '/03/ 04:   Shingo ITO ,  3,  (AFP) -   government on Tuesday unveiled  $  plan       ,         ,   pledged  lead   .'].\nReshape your data either using array.reshape(-1, 1) if your data has a single feature or array.reshape(1, -1) if it contains a single sample.",
     "output_type": "error",
     "traceback": [
      "\u001b[1;31m---------------------------------------------------------------------------\u001b[0m",
      "\u001b[1;31mValueError\u001b[0m                                Traceback (most recent call last)",
      "\u001b[1;32m<ipython-input-67-c175abfd9804>\u001b[0m in \u001b[0;36m<module>\u001b[1;34m\u001b[0m\n\u001b[0;32m      1\u001b[0m \u001b[1;31m# check the interpretationby Lime\u001b[0m\u001b[1;33m\u001b[0m\u001b[1;33m\u001b[0m\u001b[1;33m\u001b[0m\u001b[0m\n\u001b[1;32m----> 2\u001b[1;33m \u001b[0mexp\u001b[0m \u001b[1;33m=\u001b[0m \u001b[0mlimeexplainer\u001b[0m\u001b[1;33m.\u001b[0m\u001b[0mexplain_instance\u001b[0m\u001b[1;33m(\u001b[0m\u001b[0ma_message\u001b[0m\u001b[1;33m,\u001b[0m \u001b[0mbest_model_tuned\u001b[0m\u001b[1;33m[\u001b[0m\u001b[1;33m-\u001b[0m\u001b[1;36m1\u001b[0m\u001b[1;33m]\u001b[0m\u001b[1;33m.\u001b[0m\u001b[0mpredict_proba\u001b[0m\u001b[1;33m,\u001b[0m \u001b[0mnum_features\u001b[0m \u001b[1;33m=\u001b[0m \u001b[1;36m10\u001b[0m\u001b[1;33m,\u001b[0m \u001b[0mtop_labels\u001b[0m\u001b[1;33m=\u001b[0m\u001b[1;36m3\u001b[0m\u001b[1;33m)\u001b[0m\u001b[1;33m\u001b[0m\u001b[1;33m\u001b[0m\u001b[0m\n\u001b[0m\u001b[0;32m      3\u001b[0m \u001b[0mexp\u001b[0m\u001b[1;33m.\u001b[0m\u001b[0mshow_in_notebook\u001b[0m\u001b[1;33m(\u001b[0m\u001b[1;33m)\u001b[0m\u001b[1;33m\u001b[0m\u001b[1;33m\u001b[0m\u001b[0m\n",
      "\u001b[1;32mE:\\MiniConda\\envs\\nlp_pipeline\\lib\\site-packages\\lime\\lime_text.py\u001b[0m in \u001b[0;36mexplain_instance\u001b[1;34m(self, text_instance, classifier_fn, labels, top_labels, num_features, num_samples, distance_metric, model_regressor)\u001b[0m\n\u001b[0;32m    411\u001b[0m                                         mask_string=self.mask_string))\n\u001b[0;32m    412\u001b[0m         \u001b[0mdomain_mapper\u001b[0m \u001b[1;33m=\u001b[0m \u001b[0mTextDomainMapper\u001b[0m\u001b[1;33m(\u001b[0m\u001b[0mindexed_string\u001b[0m\u001b[1;33m)\u001b[0m\u001b[1;33m\u001b[0m\u001b[1;33m\u001b[0m\u001b[0m\n\u001b[1;32m--> 413\u001b[1;33m         data, yss, distances = self.__data_labels_distances(\n\u001b[0m\u001b[0;32m    414\u001b[0m             \u001b[0mindexed_string\u001b[0m\u001b[1;33m,\u001b[0m \u001b[0mclassifier_fn\u001b[0m\u001b[1;33m,\u001b[0m \u001b[0mnum_samples\u001b[0m\u001b[1;33m,\u001b[0m\u001b[1;33m\u001b[0m\u001b[1;33m\u001b[0m\u001b[0m\n\u001b[0;32m    415\u001b[0m             distance_metric=distance_metric)\n",
      "\u001b[1;32mE:\\MiniConda\\envs\\nlp_pipeline\\lib\\site-packages\\lime\\lime_text.py\u001b[0m in \u001b[0;36m__data_labels_distances\u001b[1;34m(self, indexed_string, classifier_fn, num_samples, distance_metric)\u001b[0m\n\u001b[0;32m    480\u001b[0m             \u001b[0mdata\u001b[0m\u001b[1;33m[\u001b[0m\u001b[0mi\u001b[0m\u001b[1;33m,\u001b[0m \u001b[0minactive\u001b[0m\u001b[1;33m]\u001b[0m \u001b[1;33m=\u001b[0m \u001b[1;36m0\u001b[0m\u001b[1;33m\u001b[0m\u001b[1;33m\u001b[0m\u001b[0m\n\u001b[0;32m    481\u001b[0m             \u001b[0minverse_data\u001b[0m\u001b[1;33m.\u001b[0m\u001b[0mappend\u001b[0m\u001b[1;33m(\u001b[0m\u001b[0mindexed_string\u001b[0m\u001b[1;33m.\u001b[0m\u001b[0minverse_removing\u001b[0m\u001b[1;33m(\u001b[0m\u001b[0minactive\u001b[0m\u001b[1;33m)\u001b[0m\u001b[1;33m)\u001b[0m\u001b[1;33m\u001b[0m\u001b[1;33m\u001b[0m\u001b[0m\n\u001b[1;32m--> 482\u001b[1;33m         \u001b[0mlabels\u001b[0m \u001b[1;33m=\u001b[0m \u001b[0mclassifier_fn\u001b[0m\u001b[1;33m(\u001b[0m\u001b[0minverse_data\u001b[0m\u001b[1;33m)\u001b[0m\u001b[1;33m\u001b[0m\u001b[1;33m\u001b[0m\u001b[0m\n\u001b[0m\u001b[0;32m    483\u001b[0m         \u001b[0mdistances\u001b[0m \u001b[1;33m=\u001b[0m \u001b[0mdistance_fn\u001b[0m\u001b[1;33m(\u001b[0m\u001b[0msp\u001b[0m\u001b[1;33m.\u001b[0m\u001b[0msparse\u001b[0m\u001b[1;33m.\u001b[0m\u001b[0mcsr_matrix\u001b[0m\u001b[1;33m(\u001b[0m\u001b[0mdata\u001b[0m\u001b[1;33m)\u001b[0m\u001b[1;33m)\u001b[0m\u001b[1;33m\u001b[0m\u001b[1;33m\u001b[0m\u001b[0m\n\u001b[0;32m    484\u001b[0m         \u001b[1;32mreturn\u001b[0m \u001b[0mdata\u001b[0m\u001b[1;33m,\u001b[0m \u001b[0mlabels\u001b[0m\u001b[1;33m,\u001b[0m \u001b[0mdistances\u001b[0m\u001b[1;33m\u001b[0m\u001b[1;33m\u001b[0m\u001b[0m\n",
      "\u001b[1;32mE:\\MiniConda\\envs\\nlp_pipeline\\lib\\site-packages\\sklearn\\multioutput.py\u001b[0m in \u001b[0;36m_predict_proba\u001b[1;34m(self, X)\u001b[0m\n\u001b[0;32m    386\u001b[0m \u001b[1;33m\u001b[0m\u001b[0m\n\u001b[0;32m    387\u001b[0m     \u001b[1;32mdef\u001b[0m \u001b[0m_predict_proba\u001b[0m\u001b[1;33m(\u001b[0m\u001b[0mself\u001b[0m\u001b[1;33m,\u001b[0m \u001b[0mX\u001b[0m\u001b[1;33m)\u001b[0m\u001b[1;33m:\u001b[0m\u001b[1;33m\u001b[0m\u001b[1;33m\u001b[0m\u001b[0m\n\u001b[1;32m--> 388\u001b[1;33m         results = [estimator.predict_proba(X) for estimator in\n\u001b[0m\u001b[0;32m    389\u001b[0m                    self.estimators_]\n\u001b[0;32m    390\u001b[0m         \u001b[1;32mreturn\u001b[0m \u001b[0mresults\u001b[0m\u001b[1;33m\u001b[0m\u001b[1;33m\u001b[0m\u001b[0m\n",
      "\u001b[1;32mE:\\MiniConda\\envs\\nlp_pipeline\\lib\\site-packages\\sklearn\\multioutput.py\u001b[0m in \u001b[0;36m<listcomp>\u001b[1;34m(.0)\u001b[0m\n\u001b[0;32m    386\u001b[0m \u001b[1;33m\u001b[0m\u001b[0m\n\u001b[0;32m    387\u001b[0m     \u001b[1;32mdef\u001b[0m \u001b[0m_predict_proba\u001b[0m\u001b[1;33m(\u001b[0m\u001b[0mself\u001b[0m\u001b[1;33m,\u001b[0m \u001b[0mX\u001b[0m\u001b[1;33m)\u001b[0m\u001b[1;33m:\u001b[0m\u001b[1;33m\u001b[0m\u001b[1;33m\u001b[0m\u001b[0m\n\u001b[1;32m--> 388\u001b[1;33m         results = [estimator.predict_proba(X) for estimator in\n\u001b[0m\u001b[0;32m    389\u001b[0m                    self.estimators_]\n\u001b[0;32m    390\u001b[0m         \u001b[1;32mreturn\u001b[0m \u001b[0mresults\u001b[0m\u001b[1;33m\u001b[0m\u001b[1;33m\u001b[0m\u001b[0m\n",
      "\u001b[1;32mE:\\MiniConda\\envs\\nlp_pipeline\\lib\\site-packages\\lightgbm\\sklearn.py\u001b[0m in \u001b[0;36mpredict_proba\u001b[1;34m(self, X, raw_score, start_iteration, num_iteration, pred_leaf, pred_contrib, **kwargs)\u001b[0m\n\u001b[0;32m    920\u001b[0m             \u001b[0mIf\u001b[0m\u001b[0;31m \u001b[0m\u001b[0;31m`\u001b[0m\u001b[0;31m`\u001b[0m\u001b[0mpred_contrib\u001b[0m\u001b[1;33m=\u001b[0m\u001b[1;32mTrue\u001b[0m\u001b[0;31m`\u001b[0m\u001b[0;31m`\u001b[0m\u001b[1;33m,\u001b[0m \u001b[0mthe\u001b[0m \u001b[0mfeature\u001b[0m \u001b[0mcontributions\u001b[0m \u001b[1;32mfor\u001b[0m \u001b[0meach\u001b[0m \u001b[0msample\u001b[0m\u001b[1;33m.\u001b[0m\u001b[1;33m\u001b[0m\u001b[1;33m\u001b[0m\u001b[0m\n\u001b[0;32m    921\u001b[0m         \"\"\"\n\u001b[1;32m--> 922\u001b[1;33m         result = super(LGBMClassifier, self).predict(X, raw_score, start_iteration, num_iteration,\n\u001b[0m\u001b[0;32m    923\u001b[0m                                                      pred_leaf, pred_contrib, **kwargs)\n\u001b[0;32m    924\u001b[0m         \u001b[1;32mif\u001b[0m \u001b[0mcallable\u001b[0m\u001b[1;33m(\u001b[0m\u001b[0mself\u001b[0m\u001b[1;33m.\u001b[0m\u001b[0m_objective\u001b[0m\u001b[1;33m)\u001b[0m \u001b[1;32mand\u001b[0m \u001b[1;32mnot\u001b[0m \u001b[1;33m(\u001b[0m\u001b[0mraw_score\u001b[0m \u001b[1;32mor\u001b[0m \u001b[0mpred_leaf\u001b[0m \u001b[1;32mor\u001b[0m \u001b[0mpred_contrib\u001b[0m\u001b[1;33m)\u001b[0m\u001b[1;33m:\u001b[0m\u001b[1;33m\u001b[0m\u001b[1;33m\u001b[0m\u001b[0m\n",
      "\u001b[1;32mE:\\MiniConda\\envs\\nlp_pipeline\\lib\\site-packages\\lightgbm\\sklearn.py\u001b[0m in \u001b[0;36mpredict\u001b[1;34m(self, X, raw_score, start_iteration, num_iteration, pred_leaf, pred_contrib, **kwargs)\u001b[0m\n\u001b[0;32m    678\u001b[0m             \u001b[1;32mraise\u001b[0m \u001b[0mLGBMNotFittedError\u001b[0m\u001b[1;33m(\u001b[0m\u001b[1;34m\"Estimator not fitted, call `fit` before exploiting the model.\"\u001b[0m\u001b[1;33m)\u001b[0m\u001b[1;33m\u001b[0m\u001b[1;33m\u001b[0m\u001b[0m\n\u001b[0;32m    679\u001b[0m         \u001b[1;32mif\u001b[0m \u001b[1;32mnot\u001b[0m \u001b[0misinstance\u001b[0m\u001b[1;33m(\u001b[0m\u001b[0mX\u001b[0m\u001b[1;33m,\u001b[0m \u001b[1;33m(\u001b[0m\u001b[0mDataFrame\u001b[0m\u001b[1;33m,\u001b[0m \u001b[0mDataTable\u001b[0m\u001b[1;33m)\u001b[0m\u001b[1;33m)\u001b[0m\u001b[1;33m:\u001b[0m\u001b[1;33m\u001b[0m\u001b[1;33m\u001b[0m\u001b[0m\n\u001b[1;32m--> 680\u001b[1;33m             \u001b[0mX\u001b[0m \u001b[1;33m=\u001b[0m \u001b[0m_LGBMCheckArray\u001b[0m\u001b[1;33m(\u001b[0m\u001b[0mX\u001b[0m\u001b[1;33m,\u001b[0m \u001b[0maccept_sparse\u001b[0m\u001b[1;33m=\u001b[0m\u001b[1;32mTrue\u001b[0m\u001b[1;33m,\u001b[0m \u001b[0mforce_all_finite\u001b[0m\u001b[1;33m=\u001b[0m\u001b[1;32mFalse\u001b[0m\u001b[1;33m)\u001b[0m\u001b[1;33m\u001b[0m\u001b[1;33m\u001b[0m\u001b[0m\n\u001b[0m\u001b[0;32m    681\u001b[0m         \u001b[0mn_features\u001b[0m \u001b[1;33m=\u001b[0m \u001b[0mX\u001b[0m\u001b[1;33m.\u001b[0m\u001b[0mshape\u001b[0m\u001b[1;33m[\u001b[0m\u001b[1;36m1\u001b[0m\u001b[1;33m]\u001b[0m\u001b[1;33m\u001b[0m\u001b[1;33m\u001b[0m\u001b[0m\n\u001b[0;32m    682\u001b[0m         \u001b[1;32mif\u001b[0m \u001b[0mself\u001b[0m\u001b[1;33m.\u001b[0m\u001b[0m_n_features\u001b[0m \u001b[1;33m!=\u001b[0m \u001b[0mn_features\u001b[0m\u001b[1;33m:\u001b[0m\u001b[1;33m\u001b[0m\u001b[1;33m\u001b[0m\u001b[0m\n",
      "\u001b[1;32mE:\\MiniConda\\envs\\nlp_pipeline\\lib\\site-packages\\sklearn\\utils\\validation.py\u001b[0m in \u001b[0;36minner_f\u001b[1;34m(*args, **kwargs)\u001b[0m\n\u001b[0;32m     70\u001b[0m                           FutureWarning)\n\u001b[0;32m     71\u001b[0m         \u001b[0mkwargs\u001b[0m\u001b[1;33m.\u001b[0m\u001b[0mupdate\u001b[0m\u001b[1;33m(\u001b[0m\u001b[1;33m{\u001b[0m\u001b[0mk\u001b[0m\u001b[1;33m:\u001b[0m \u001b[0marg\u001b[0m \u001b[1;32mfor\u001b[0m \u001b[0mk\u001b[0m\u001b[1;33m,\u001b[0m \u001b[0marg\u001b[0m \u001b[1;32min\u001b[0m \u001b[0mzip\u001b[0m\u001b[1;33m(\u001b[0m\u001b[0msig\u001b[0m\u001b[1;33m.\u001b[0m\u001b[0mparameters\u001b[0m\u001b[1;33m,\u001b[0m \u001b[0margs\u001b[0m\u001b[1;33m)\u001b[0m\u001b[1;33m}\u001b[0m\u001b[1;33m)\u001b[0m\u001b[1;33m\u001b[0m\u001b[1;33m\u001b[0m\u001b[0m\n\u001b[1;32m---> 72\u001b[1;33m         \u001b[1;32mreturn\u001b[0m \u001b[0mf\u001b[0m\u001b[1;33m(\u001b[0m\u001b[1;33m**\u001b[0m\u001b[0mkwargs\u001b[0m\u001b[1;33m)\u001b[0m\u001b[1;33m\u001b[0m\u001b[1;33m\u001b[0m\u001b[0m\n\u001b[0m\u001b[0;32m     73\u001b[0m     \u001b[1;32mreturn\u001b[0m \u001b[0minner_f\u001b[0m\u001b[1;33m\u001b[0m\u001b[1;33m\u001b[0m\u001b[0m\n\u001b[0;32m     74\u001b[0m \u001b[1;33m\u001b[0m\u001b[0m\n",
      "\u001b[1;32mE:\\MiniConda\\envs\\nlp_pipeline\\lib\\site-packages\\sklearn\\utils\\validation.py\u001b[0m in \u001b[0;36mcheck_array\u001b[1;34m(array, accept_sparse, accept_large_sparse, dtype, order, copy, force_all_finite, ensure_2d, allow_nd, ensure_min_samples, ensure_min_features, estimator)\u001b[0m\n\u001b[0;32m    617\u001b[0m             \u001b[1;31m# If input is 1D raise error\u001b[0m\u001b[1;33m\u001b[0m\u001b[1;33m\u001b[0m\u001b[1;33m\u001b[0m\u001b[0m\n\u001b[0;32m    618\u001b[0m             \u001b[1;32mif\u001b[0m \u001b[0marray\u001b[0m\u001b[1;33m.\u001b[0m\u001b[0mndim\u001b[0m \u001b[1;33m==\u001b[0m \u001b[1;36m1\u001b[0m\u001b[1;33m:\u001b[0m\u001b[1;33m\u001b[0m\u001b[1;33m\u001b[0m\u001b[0m\n\u001b[1;32m--> 619\u001b[1;33m                 raise ValueError(\n\u001b[0m\u001b[0;32m    620\u001b[0m                     \u001b[1;34m\"Expected 2D array, got 1D array instead:\\narray={}.\\n\"\u001b[0m\u001b[1;33m\u001b[0m\u001b[1;33m\u001b[0m\u001b[0m\n\u001b[0;32m    621\u001b[0m                     \u001b[1;34m\"Reshape your data either using array.reshape(-1, 1) if \"\u001b[0m\u001b[1;33m\u001b[0m\u001b[1;33m\u001b[0m\u001b[0m\n",
      "\u001b[1;31mValueError\u001b[0m: Expected 2D array, got 1D array instead:\narray=['09/03/2013 04:09 GMT by Shingo ITO TOKYO, September 3, 2013 (AFP) - The Japanese government on Tuesday unveiled a $470 million plan to stem radioactive water leaks at Fukushima, including freezing the ground underneath the stricken nuclear plant, as it pledged to lead from the front.'\n '/03/2013 :   Shingo  ,  , 2013 (AFP) -        $470   to stem  water  at ,         ,    to    .'\n '09/03/2013 04:09 GMT by Shingo  , September , 2013 (AFP) - The  government on Tuesday unveiled a $470 million plan to stem radioactive water leaks at , including freezing the ground  the stricken nuclear plant, as   to  from the .'\n ...\n '09/03/2013 :09 GMT by  ITO TOKYO, September 3, 2013 (AFP) - The Japanese government on Tuesday unveiled  $470 million  to stem  water leaks  Fukushima,  freezing the  underneath the stricken nuclear plant,   pledged to lead from the front.'\n '/03/ : GMT by Shingo  ,  ,  (AFP) -   government on Tuesday unveiled a $470 million plan     leaks  Fukushima,    ground    nuclear plant,  it pledged  lead from  front.'\n '/03/ 04:   Shingo ITO ,  3,  (AFP) -   government on Tuesday unveiled  $  plan       ,         ,   pledged  lead   .'].\nReshape your data either using array.reshape(-1, 1) if your data has a single feature or array.reshape(1, -1) if it contains a single sample."
     ]
    }
   ],
   "source": [
    "# check the interpretationby Lime\n",
    "exp = limeexplainer.explain_instance(a_message, best_model_tuned.predict_proba, num_features = 10, top_labels=3)\n",
    "exp.show_in_notebook()"
   ]
  },
  {
   "cell_type": "markdown",
   "metadata": {},
   "source": [
    "### 9. Investigate miss-classifications"
   ]
  },
  {
   "cell_type": "code",
   "execution_count": 154,
   "metadata": {},
   "outputs": [],
   "source": [
    "# # Build a Dataframe used to identify missclassified Genres, add the LSA (2 components score)\n",
    "# X_test_transform = best_model_tuned[:-1].fit_transform(X_test)\n",
    "# lsa = TruncatedSVD(n_components=2)\n",
    "# lsa.fit(X_test_transform)\n",
    "# lsa_scores = lsa.transform(X_test_transform)\n",
    "# frame = { 'Message': X_test, 'Lsa Score 1': lsa_scores[:,0], 'Lsa Score 2': lsa_scores[:,1], 'Labels' : y_test, 'Predictions' : predictions} \n",
    "# res_df = pd.DataFrame(frame)\n",
    "# res_df['PredictionResult'] = res_df['Labels'] == res_df['Predictions']\n",
    "# res_df['Message'] = res_df['Message'].str.replace('.','<br>')\n",
    "\n",
    "# res_df.head()"
   ]
  },
  {
   "cell_type": "code",
   "execution_count": 155,
   "metadata": {},
   "outputs": [],
   "source": [
    "# # Show Miss Classified Message\n",
    "# col = ['Message','Labels','Predictions']\n",
    "# mask = res_df['PredictionResult'] == False\n",
    "# res_df[mask][col]"
   ]
  },
  {
   "cell_type": "code",
   "execution_count": 156,
   "metadata": {},
   "outputs": [],
   "source": [
    "# # PLot all test set messages, highlight the miss-classified messages with an X\n",
    "# symbols = ['circle', 'x']\n",
    "\n",
    "# fig = px.scatter(res_df, x=\"Lsa Score 1\", y=\"Lsa Score 2\", color=\"Labels\", hover_data=['Message'],\n",
    "#                  width=1000, height=800, title=\"Test Set - LSA w/ 2 Components\",  \n",
    "#                  symbol = res_df['PredictionResult'], symbol_sequence=symbols, \n",
    "#                  color_discrete_sequence=px.colors.qualitative.G10)\n",
    "\n",
    "# #fig.update_traces(marker_symbol=\"x\", selector=dict(mode='markers'))\n",
    "# fig.show()"
   ]
  },
  {
   "cell_type": "code",
   "execution_count": 157,
   "metadata": {},
   "outputs": [],
   "source": [
    "# # PLot the miss-classified messages\n",
    "# symbols = ['x']\n",
    "\n",
    "# fig = px.scatter(res_df[mask], x=\"Lsa Score 1\", y=\"Lsa Score 2\", color=\"Labels\", hover_data=['Message','Labels','Predictions'],\n",
    "#                  width=1000, height=800, title=\"Test Set - LSA w/ 2 Components\",  \n",
    "#                   symbol_sequence=symbols, \n",
    "#                  color_discrete_sequence=px.colors.qualitative.G10)\n",
    "\n",
    "# fig.update_traces(mode='markers')\n",
    "# fig.show()"
   ]
  },
  {
   "cell_type": "markdown",
   "metadata": {},
   "source": [
    "### 10. Export your model as a pickle file"
   ]
  },
  {
   "cell_type": "code",
   "execution_count": 152,
   "metadata": {},
   "outputs": [
    {
     "name": "stdout",
     "output_type": "stream",
     "text": [
      "Saving model nlp_chain_nlp_pipeline_lgb-Feb-17-21-20h41.pkl to directory ../models/\n"
     ]
    }
   ],
   "source": [
    "import pickle\n",
    "\n",
    "model_dir = '../models/'\n",
    "\n",
    "#Get the date to time stamp model\n",
    "today = datetime.now()\n",
    "timestamp = today.strftime(\"%b-%d-%y-%Hh%M\")\n",
    "\n",
    "model_file = best_pipline_name+'-'+timestamp+'.pkl'\n",
    "print(\"Saving model {} to directory {}\".format(model_file,model_dir))\n",
    "pickle.dump(best_model_tuned, open(model_dir+model_file, 'wb'))"
   ]
  },
  {
   "cell_type": "markdown",
   "metadata": {},
   "source": [
    "### 10. Use this notebook to complete `train.py`\n",
    "Use the template file attached in the Resources folder to write a script that runs the steps above to create a database and export a model based on a new dataset specified by the user."
   ]
  },
  {
   "cell_type": "code",
   "execution_count": null,
   "metadata": {},
   "outputs": [],
   "source": []
  }
 ],
 "metadata": {
  "kernelspec": {
   "display_name": "Python 3",
   "language": "python",
   "name": "python3"
  },
  "language_info": {
   "codemirror_mode": {
    "name": "ipython",
    "version": 3
   },
   "file_extension": ".py",
   "mimetype": "text/x-python",
   "name": "python",
   "nbconvert_exporter": "python",
   "pygments_lexer": "ipython3",
   "version": "3.8.5"
  }
 },
 "nbformat": 4,
 "nbformat_minor": 2
}
